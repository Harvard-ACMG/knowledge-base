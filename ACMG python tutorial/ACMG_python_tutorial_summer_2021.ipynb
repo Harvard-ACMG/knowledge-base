{
  "nbformat": 4,
  "nbformat_minor": 0,
  "metadata": {
    "colab": {
      "name": "ACMG python tutorial summer 2021.ipynb",
      "provenance": []
    },
    "kernelspec": {
      "name": "python3",
      "display_name": "Python 3"
    },
    "language_info": {
      "name": "python"
    }
  },
  "cells": [
    {
      "cell_type": "markdown",
      "metadata": {
        "id": "pQtTbpXifubu"
      },
      "source": [
        "#Introduction to Scientific Computing in Python!\n",
        "\n",
        "In this tutorial, you will be introduced to:\n",
        "\n",
        "*   Syntax and common tools in base Python \n",
        "*   The NumPy package for scientific computing\n",
        "*   The SciPy package for statistical analysis, among other things.\n",
        "*   The Pandas package for databases\n",
        "*   The Matplotlib package for making beautiful plots\n",
        "*   And, finally, you will pull everything together in a quick demo!\n",
        "\n",
        "After this tutorial, you'll be ready to handle the machine learning packages introduced next week! Python is a complex language with many powerful packages. Learning them all will take years -- but we'll start here. Note that some of the material in this tutorial is from Harvard's Applied Computation 207 course."
      ]
    },
    {
      "cell_type": "markdown",
      "metadata": {
        "id": "s688I1bygc4V"
      },
      "source": [
        "# First things first\n",
        "\n",
        "*   Introductions!\n",
        "*   What is your programming experience? Fill out the Zoom poll!\n",
        "*   Meet the jargon giraffe!\n",
        "*   Questions policy: please speak up at any time for any reason.\n",
        "*   Go to https://colab.research.google.com and click \"New Notebook.\"\n",
        "\n",
        "\n"
      ]
    },
    {
      "cell_type": "markdown",
      "metadata": {
        "id": "NSV2oVrDiZku"
      },
      "source": [
        "#1. Base Python\n",
        "\n",
        "What is Python, and what is it good for?\n",
        "\n",
        "*   Python is an *interpreted* programming language.\n",
        "*   Python is slower than \"low-level\" *compiled* languages like C++ or Fortran, which are often used to do calculations for complex simulations such as a climate models or video game graphic engines. However, it is *much* easier to program and get rapid results in fields such as data analysis. \n",
        "*   Base Python contains many useful tools, but its main strength is a wide variety of excellent and well-documented *packages* like those I mentioned above. But let's learn the basics before we dive into packages.\n",
        "\n",
        "Python can do basic calculations.\n",
        "\n"
      ]
    },
    {
      "cell_type": "code",
      "metadata": {
        "colab": {
          "base_uri": "https://localhost:8080/"
        },
        "id": "ZNTo_92VmD0Q",
        "outputId": "b3054134-33fe-4cc1-aafa-1b8c1fa36869"
      },
      "source": [
        "2+3"
      ],
      "execution_count": 115,
      "outputs": [
        {
          "output_type": "execute_result",
          "data": {
            "text/plain": [
              "5"
            ]
          },
          "metadata": {
            "tags": []
          },
          "execution_count": 115
        }
      ]
    },
    {
      "cell_type": "code",
      "metadata": {
        "colab": {
          "base_uri": "https://localhost:8080/"
        },
        "id": "fb6XGHtrmFEy",
        "outputId": "3d7375dc-35c3-474f-d9d4-a6a24723f242"
      },
      "source": [
        "5*6.5"
      ],
      "execution_count": 2,
      "outputs": [
        {
          "output_type": "execute_result",
          "data": {
            "text/plain": [
              "32.5"
            ]
          },
          "metadata": {
            "tags": []
          },
          "execution_count": 2
        }
      ]
    },
    {
      "cell_type": "code",
      "metadata": {
        "colab": {
          "base_uri": "https://localhost:8080/"
        },
        "id": "4XEYcEHZmG84",
        "outputId": "ab627656-0763-40d3-a13f-a5cd700f181b"
      },
      "source": [
        "7**3"
      ],
      "execution_count": 116,
      "outputs": [
        {
          "output_type": "execute_result",
          "data": {
            "text/plain": [
              "343"
            ]
          },
          "metadata": {
            "tags": []
          },
          "execution_count": 116
        }
      ]
    },
    {
      "cell_type": "code",
      "metadata": {
        "colab": {
          "base_uri": "https://localhost:8080/"
        },
        "id": "Ar1T3HNomIsX",
        "outputId": "c624f1d3-628b-432f-adc0-9007add8cb23"
      },
      "source": [
        "5/6"
      ],
      "execution_count": 117,
      "outputs": [
        {
          "output_type": "execute_result",
          "data": {
            "text/plain": [
              "0.8333333333333334"
            ]
          },
          "metadata": {
            "tags": []
          },
          "execution_count": 117
        }
      ]
    },
    {
      "cell_type": "markdown",
      "metadata": {
        "id": "U4wk4n5tn35F"
      },
      "source": [
        "Python can print things!"
      ]
    },
    {
      "cell_type": "code",
      "metadata": {
        "colab": {
          "base_uri": "https://localhost:8080/"
        },
        "id": "V4J3mRUsn5kF",
        "outputId": "8822bf9a-73bb-4b40-8977-94199de2bc36"
      },
      "source": [
        "print('Hello ACMG!')"
      ],
      "execution_count": 118,
      "outputs": [
        {
          "output_type": "stream",
          "text": [
            "Hello ACMG!\n"
          ],
          "name": "stdout"
        }
      ]
    },
    {
      "cell_type": "code",
      "metadata": {
        "colab": {
          "base_uri": "https://localhost:8080/"
        },
        "id": "IvQkyps5n8Uo",
        "outputId": "561496bb-ce70-41ab-fd7c-4c24e15adcb9"
      },
      "source": [
        "print(f'When you add two plus three you get {2+3}.')"
      ],
      "execution_count": 119,
      "outputs": [
        {
          "output_type": "stream",
          "text": [
            "When you add two plus three you get 5.\n"
          ],
          "name": "stdout"
        }
      ]
    },
    {
      "cell_type": "markdown",
      "metadata": {
        "id": "uttgLWrgowYN"
      },
      "source": [
        "We can store data in variables and use them for further calculations."
      ]
    },
    {
      "cell_type": "code",
      "metadata": {
        "colab": {
          "base_uri": "https://localhost:8080/"
        },
        "id": "aA8vvzHCo0kq",
        "outputId": "7eb11233-d80b-4732-df1f-c9fcb80e5fec"
      },
      "source": [
        "a = 2+3\n",
        "b = a**2\n",
        "print(f'The value of b, which equals {a} squared, is {b}.')"
      ],
      "execution_count": 120,
      "outputs": [
        {
          "output_type": "stream",
          "text": [
            "The value of b, which equals 5 squared, is 25.\n"
          ],
          "name": "stdout"
        }
      ]
    },
    {
      "cell_type": "markdown",
      "metadata": {
        "id": "xRa4-JOspL1-"
      },
      "source": [
        "We can store data of various types in *arrays*."
      ]
    },
    {
      "cell_type": "code",
      "metadata": {
        "id": "hLLO2cOORKz4"
      },
      "source": [
        "array = ['Hello', 45, 2**3.3,'banana', b]"
      ],
      "execution_count": 122,
      "outputs": []
    },
    {
      "cell_type": "markdown",
      "metadata": {
        "id": "xiHgG9jFRf0p"
      },
      "source": [
        "We can index items in the array by giving the position, starting with zero to refer to the first entry (classic computer science!). We can also index backwards using negative numbers."
      ]
    },
    {
      "cell_type": "code",
      "metadata": {
        "colab": {
          "base_uri": "https://localhost:8080/"
        },
        "id": "dMfLkvm3Re-v",
        "outputId": "14b4d86b-2611-42ca-a43b-2074f65a2a21"
      },
      "source": [
        "print(f'First entry in the array is {array[0]} and last entry is {array[-1]}.')"
      ],
      "execution_count": 123,
      "outputs": [
        {
          "output_type": "stream",
          "text": [
            "First entry in the array is Hello and last entry is 25.\n"
          ],
          "name": "stdout"
        }
      ]
    },
    {
      "cell_type": "markdown",
      "metadata": {
        "id": "_crB2XZIRvzM"
      },
      "source": [
        "We can also use the `:` symbol to select, or 'slice' data in the array"
      ]
    },
    {
      "cell_type": "code",
      "metadata": {
        "colab": {
          "base_uri": "https://localhost:8080/"
        },
        "id": "A3UDdStCRqLi",
        "outputId": "03ad805a-3a90-435b-807f-fb862c1507b3"
      },
      "source": [
        "print(f'Here are the second and third entries: {array[1:3]}.')"
      ],
      "execution_count": 124,
      "outputs": [
        {
          "output_type": "stream",
          "text": [
            "Here are the second and third entries: [45, 9.849155306759329].\n"
          ],
          "name": "stdout"
        }
      ]
    },
    {
      "cell_type": "markdown",
      "metadata": {
        "id": "1M3RDr5YR4Xy"
      },
      "source": [
        "Note that in Python, the slice excludes the last number. This is how Python handles these sorts of 'range'-like data."
      ]
    },
    {
      "cell_type": "markdown",
      "metadata": {
        "id": "dutv1SB3Vw82"
      },
      "source": [
        "Adding to an array is simple:"
      ]
    },
    {
      "cell_type": "code",
      "metadata": {
        "colab": {
          "base_uri": "https://localhost:8080/"
        },
        "id": "LeuahaGLVy3H",
        "outputId": "0fa79bcc-8b79-44d6-c41c-43b195e6b2d8"
      },
      "source": [
        "array.append('Appended!')\n",
        "array"
      ],
      "execution_count": 125,
      "outputs": [
        {
          "output_type": "execute_result",
          "data": {
            "text/plain": [
              "['Hello', 45, 9.849155306759329, 'banana', 25, 'Appended!']"
            ]
          },
          "metadata": {
            "tags": []
          },
          "execution_count": 125
        }
      ]
    },
    {
      "cell_type": "markdown",
      "metadata": {
        "id": "7kg5SuRPXG1V"
      },
      "source": [
        "Checking the length is simple:"
      ]
    },
    {
      "cell_type": "code",
      "metadata": {
        "colab": {
          "base_uri": "https://localhost:8080/"
        },
        "id": "Z1XwunIZXFe-",
        "outputId": "6359a294-6717-421e-b29c-4b5df9c4aad7"
      },
      "source": [
        "len(array)"
      ],
      "execution_count": 126,
      "outputs": [
        {
          "output_type": "execute_result",
          "data": {
            "text/plain": [
              "6"
            ]
          },
          "metadata": {
            "tags": []
          },
          "execution_count": 126
        }
      ]
    },
    {
      "cell_type": "markdown",
      "metadata": {
        "id": "rRB1hUJ_pFOs"
      },
      "source": [
        "In Python, all data and variables have a type (integer, String, double, float, etc.). Unlike compiled languages like Java and C, however, Python does not have you supply the type. Instead, it infers the type based on the variable."
      ]
    },
    {
      "cell_type": "code",
      "metadata": {
        "colab": {
          "base_uri": "https://localhost:8080/"
        },
        "id": "GV2sUCYkReWd",
        "outputId": "97007033-dfa1-4a16-a26a-f0dd3c0b2c54"
      },
      "source": [
        "a = 5\n",
        "type(a)"
      ],
      "execution_count": 127,
      "outputs": [
        {
          "output_type": "execute_result",
          "data": {
            "text/plain": [
              "int"
            ]
          },
          "metadata": {
            "tags": []
          },
          "execution_count": 127
        }
      ]
    },
    {
      "cell_type": "code",
      "metadata": {
        "colab": {
          "base_uri": "https://localhost:8080/"
        },
        "id": "cBmdcS4zSber",
        "outputId": "cf69a4e8-2060-4890-dca7-43bfbfea3473"
      },
      "source": [
        "a = 3.0\n",
        "type(a)"
      ],
      "execution_count": 128,
      "outputs": [
        {
          "output_type": "execute_result",
          "data": {
            "text/plain": [
              "float"
            ]
          },
          "metadata": {
            "tags": []
          },
          "execution_count": 128
        }
      ]
    },
    {
      "cell_type": "code",
      "metadata": {
        "colab": {
          "base_uri": "https://localhost:8080/"
        },
        "id": "N8w5xwrJSduE",
        "outputId": "a25caefb-4e5c-4383-f465-6399a2b68794"
      },
      "source": [
        "b = 'Potato'\n",
        "type(b)"
      ],
      "execution_count": 129,
      "outputs": [
        {
          "output_type": "execute_result",
          "data": {
            "text/plain": [
              "str"
            ]
          },
          "metadata": {
            "tags": []
          },
          "execution_count": 129
        }
      ]
    },
    {
      "cell_type": "markdown",
      "metadata": {
        "id": "DlF3ck8WSikj"
      },
      "source": [
        "However, if the types don't match up for an operator, you can get a TypeError."
      ]
    },
    {
      "cell_type": "code",
      "metadata": {
        "colab": {
          "base_uri": "https://localhost:8080/",
          "height": 171
        },
        "id": "yYkrKJ0ySgpN",
        "outputId": "074111e4-d307-4e07-f334-eed9e3aebfd1"
      },
      "source": [
        "a+b"
      ],
      "execution_count": 130,
      "outputs": [
        {
          "output_type": "error",
          "ename": "TypeError",
          "evalue": "ignored",
          "traceback": [
            "\u001b[0;31m---------------------------------------------------------------------------\u001b[0m",
            "\u001b[0;31mTypeError\u001b[0m                                 Traceback (most recent call last)",
            "\u001b[0;32m<ipython-input-130-ca730b97bf8a>\u001b[0m in \u001b[0;36m<module>\u001b[0;34m()\u001b[0m\n\u001b[0;32m----> 1\u001b[0;31m \u001b[0ma\u001b[0m\u001b[0;34m+\u001b[0m\u001b[0mb\u001b[0m\u001b[0;34m\u001b[0m\u001b[0;34m\u001b[0m\u001b[0m\n\u001b[0m",
            "\u001b[0;31mTypeError\u001b[0m: unsupported operand type(s) for +: 'float' and 'str'"
          ]
        }
      ]
    },
    {
      "cell_type": "markdown",
      "metadata": {
        "id": "AhXOz0L7qZha"
      },
      "source": [
        "**Exercise**: Given the below values, in two lines of code, create an array where the first entry is *a* squared plus *b* minus *c*, and where the second entry is *a* times *b* times *c*. Print both entries."
      ]
    },
    {
      "cell_type": "code",
      "metadata": {
        "id": "h1XA9fphqW_D"
      },
      "source": [
        "a, b, c = 2.0, -1.0, -3.5"
      ],
      "execution_count": 131,
      "outputs": []
    },
    {
      "cell_type": "markdown",
      "metadata": {
        "id": "-NWAPBLmqzas"
      },
      "source": [
        "**Solution**:"
      ]
    },
    {
      "cell_type": "code",
      "metadata": {
        "colab": {
          "base_uri": "https://localhost:8080/"
        },
        "id": "cwKNz-mDq0wv",
        "outputId": "b3061385-2ee9-40a1-bf73-c9bee026e8b3"
      },
      "source": [
        "solution = [a**2 + b - c, a*b*c]\n",
        "print(f'Entry 1: {solution[0]}. Entry 2: {solution[1]}.')"
      ],
      "execution_count": 132,
      "outputs": [
        {
          "output_type": "stream",
          "text": [
            "Entry 1: 6.5. Entry 2: 7.0.\n"
          ],
          "name": "stdout"
        }
      ]
    },
    {
      "cell_type": "markdown",
      "metadata": {
        "id": "5KQWmIows3Mx"
      },
      "source": [
        "Conditionals, most commonly seen in the if/else statement, are important in Python. This allows us to split up program flow based on True/False conditions."
      ]
    },
    {
      "cell_type": "code",
      "metadata": {
        "colab": {
          "base_uri": "https://localhost:8080/"
        },
        "id": "pZO5l3jyS1Cd",
        "outputId": "9e924f1f-3742-49ff-e813-cf80029aaac7"
      },
      "source": [
        "some_primes = [2, 3, 5, 7, 13]\n",
        "\n",
        "x = 9\n",
        "if x in some_primes:\n",
        "    print('x is prime!')\n",
        "elif x > 13:\n",
        "    print('x may or may not be prime.')\n",
        "else:\n",
        "    print('x is definitely not prime.')"
      ],
      "execution_count": 133,
      "outputs": [
        {
          "output_type": "stream",
          "text": [
            "x is definitely not prime.\n"
          ],
          "name": "stdout"
        }
      ]
    },
    {
      "cell_type": "markdown",
      "metadata": {
        "id": "XA6ggbRqs1oh"
      },
      "source": [
        "Loops allow us to run some lines of code many times. We can loop through a list, for example:\n"
      ]
    },
    {
      "cell_type": "code",
      "metadata": {
        "colab": {
          "base_uri": "https://localhost:8080/"
        },
        "id": "CJTrgr9gTWHW",
        "outputId": "6b5ee600-f0ec-458c-b148-012ff40e89db"
      },
      "source": [
        "for prime in some_primes:\n",
        "  print(f'{prime} is a prime number!')"
      ],
      "execution_count": 134,
      "outputs": [
        {
          "output_type": "stream",
          "text": [
            "2 is a prime number!\n",
            "3 is a prime number!\n",
            "5 is a prime number!\n",
            "7 is a prime number!\n",
            "13 is a prime number!\n"
          ],
          "name": "stdout"
        }
      ]
    },
    {
      "cell_type": "markdown",
      "metadata": {
        "id": "FoX5v83gTb-o"
      },
      "source": [
        "The `range` function returns a special class of object in Python called an *iterable*. Iterables are what for loops in Python loop through. Under the hood, Python converts our `some_prime` list into an iterable and passes through it until the iterable is *exhausted*, or we reach the end of the list. The range function allows us to use for loops in a familiar way."
      ]
    },
    {
      "cell_type": "code",
      "metadata": {
        "colab": {
          "base_uri": "https://localhost:8080/"
        },
        "id": "RaxpVrSpTbcC",
        "outputId": "8833e86d-019a-40f9-ff33-fffba9f4946e"
      },
      "source": [
        "for i in range(10):\n",
        "  print(f'We are on loop number {i}.')"
      ],
      "execution_count": 135,
      "outputs": [
        {
          "output_type": "stream",
          "text": [
            "We are on loop number 0.\n",
            "We are on loop number 1.\n",
            "We are on loop number 2.\n",
            "We are on loop number 3.\n",
            "We are on loop number 4.\n",
            "We are on loop number 5.\n",
            "We are on loop number 6.\n",
            "We are on loop number 7.\n",
            "We are on loop number 8.\n",
            "We are on loop number 9.\n"
          ],
          "name": "stdout"
        }
      ]
    },
    {
      "cell_type": "markdown",
      "metadata": {
        "id": "3Eyao7YhUAVB"
      },
      "source": [
        "We don't have to start at zero, but if given a range Python always assumes the last number is not included."
      ]
    },
    {
      "cell_type": "code",
      "metadata": {
        "colab": {
          "base_uri": "https://localhost:8080/"
        },
        "id": "JZA_PupgT8ch",
        "outputId": "c8205500-9c92-4baf-8483-52293620129f"
      },
      "source": [
        "for i in range(10,15):\n",
        "  print(f'We are on loop number {i}.')"
      ],
      "execution_count": 136,
      "outputs": [
        {
          "output_type": "stream",
          "text": [
            "We are on loop number 10.\n",
            "We are on loop number 11.\n",
            "We are on loop number 12.\n",
            "We are on loop number 13.\n",
            "We are on loop number 14.\n"
          ],
          "name": "stdout"
        }
      ]
    },
    {
      "cell_type": "markdown",
      "metadata": {
        "id": "2C_DDS8ms86O"
      },
      "source": [
        "The last basic Python topic we will cover are functions. Functions allow you to execute a custom bit of code quickly. Let's take a look. "
      ]
    },
    {
      "cell_type": "code",
      "metadata": {
        "colab": {
          "base_uri": "https://localhost:8080/"
        },
        "id": "QaYl8Qm_UVWV",
        "outputId": "5d8ef5af-248b-48cd-984f-a089cb05062c"
      },
      "source": [
        "def myFunction():\n",
        "  print('Hi ACMG!')\n",
        "\n",
        "myFunction()"
      ],
      "execution_count": 137,
      "outputs": [
        {
          "output_type": "stream",
          "text": [
            "Hi ACMG!\n"
          ],
          "name": "stdout"
        }
      ]
    },
    {
      "cell_type": "markdown",
      "metadata": {
        "id": "KjeOaZ2wUbBq"
      },
      "source": [
        "Functions can take arguments."
      ]
    },
    {
      "cell_type": "code",
      "metadata": {
        "colab": {
          "base_uri": "https://localhost:8080/"
        },
        "id": "7WsxJ2uyUaRG",
        "outputId": "ac3cae2c-d809-4e90-beca-bf1e666e5b0e"
      },
      "source": [
        "def helloYou(name):\n",
        "  print(f'Hello {name}!')\n",
        "\n",
        "helloYou('Drew')"
      ],
      "execution_count": 138,
      "outputs": [
        {
          "output_type": "stream",
          "text": [
            "Hello Drew!\n"
          ],
          "name": "stdout"
        }
      ]
    },
    {
      "cell_type": "markdown",
      "metadata": {
        "id": "5kYrkvXMUkoQ"
      },
      "source": [
        "Functions can return values."
      ]
    },
    {
      "cell_type": "code",
      "metadata": {
        "id": "PN11MtBLUnnP"
      },
      "source": [
        "def cubeThat(number):\n",
        "  return [number**3,number]\n",
        "\n",
        "cubedval, originalval = cubeThat(4)"
      ],
      "execution_count": 175,
      "outputs": []
    },
    {
      "cell_type": "code",
      "metadata": {
        "colab": {
          "base_uri": "https://localhost:8080/"
        },
        "id": "-ZxdMkV8krlJ",
        "outputId": "d5899885-46b7-4e53-8735-c1896db5fb28"
      },
      "source": [
        "originalval"
      ],
      "execution_count": 177,
      "outputs": [
        {
          "output_type": "execute_result",
          "data": {
            "text/plain": [
              "4"
            ]
          },
          "metadata": {
            "tags": []
          },
          "execution_count": 177
        }
      ]
    },
    {
      "cell_type": "markdown",
      "metadata": {
        "id": "xLYNvS6EUltl"
      },
      "source": [
        "Since functions are considered objects by Python, functions can return other functions!"
      ]
    },
    {
      "cell_type": "code",
      "metadata": {
        "colab": {
          "base_uri": "https://localhost:8080/"
        },
        "id": "bGKQTGXbU0Vp",
        "outputId": "6018f139-0cb0-4265-e335-abc4c886f5b2"
      },
      "source": [
        "def createPower(power):\n",
        "  def powerThat(number):\n",
        "    return number**power\n",
        "  return powerThat\n",
        "\n",
        "fourthpower = createPower(4)\n",
        "fifthpower = createPower(5)\n",
        "\n",
        "print(f'Two to the fourth power is {fourthpower(2)} while two to the fifth power is {fifthpower(2)}.')"
      ],
      "execution_count": 140,
      "outputs": [
        {
          "output_type": "stream",
          "text": [
            "Two to the fourth power is 16 while two to the fifth power is 32.\n"
          ],
          "name": "stdout"
        }
      ]
    },
    {
      "cell_type": "markdown",
      "metadata": {
        "id": "yRGR-AKKm6b0"
      },
      "source": [
        "The environment we are currently in is called a Jupyter notebook. This particular Jupyter notebook is hosted by Google (you can also run Jupyter notebooks locally on your computer), who may be nasty but they do give us free computing power. These notebooks allow us to put code, output, plots, and commentary in a pretty and interactive HTML document. Python can also be run in the command line, like so. (Demo)\n",
        "\n"
      ]
    },
    {
      "cell_type": "markdown",
      "metadata": {
        "id": "AN2-bRUOs-rU"
      },
      "source": [
        "You should also know *dictionaries*, *classes*, and *exceptions*, but I do not cover them here! We can discuss later if we have time."
      ]
    },
    {
      "cell_type": "markdown",
      "metadata": {
        "id": "SMpfkWAfri7Y"
      },
      "source": [
        "#2. NumPy: Adding tools to Python for fast computation\n"
      ]
    },
    {
      "cell_type": "markdown",
      "metadata": {
        "id": "O5OnNPwgVPwA"
      },
      "source": [
        "NumPy is a package, and is not loaded by default into Python. We load it using an `import` statement."
      ]
    },
    {
      "cell_type": "code",
      "metadata": {
        "id": "IBzqBoMnujJB"
      },
      "source": [
        "import numpy as np"
      ],
      "execution_count": 160,
      "outputs": []
    },
    {
      "cell_type": "markdown",
      "metadata": {
        "id": "ZRyxNZbQVWJg"
      },
      "source": [
        "The most important thing about NumPy is its arrays, which are much more powerful than base Python arrays:"
      ]
    },
    {
      "cell_type": "code",
      "metadata": {
        "colab": {
          "base_uri": "https://localhost:8080/"
        },
        "id": "98QDzOYzVVcA",
        "outputId": "bfe657b5-e839-44fb-db68-1ec40e6b205d"
      },
      "source": [
        "new_array = np.array([2, 3, 5, 7, 13])\n",
        "\n",
        "new_array**2"
      ],
      "execution_count": 142,
      "outputs": [
        {
          "output_type": "execute_result",
          "data": {
            "text/plain": [
              "array([  4,   9,  25,  49, 169])"
            ]
          },
          "metadata": {
            "tags": []
          },
          "execution_count": 142
        }
      ]
    },
    {
      "cell_type": "markdown",
      "metadata": {
        "id": "okPPUm_5VlBx"
      },
      "source": [
        "Note that the base Python array cannot have operations done on it:"
      ]
    },
    {
      "cell_type": "code",
      "metadata": {
        "colab": {
          "base_uri": "https://localhost:8080/",
          "height": 171
        },
        "id": "AY1gqaOwVpNK",
        "outputId": "83701188-cdf9-4f9d-b54b-0da9dc1d7393"
      },
      "source": [
        "some_primes**2"
      ],
      "execution_count": 143,
      "outputs": [
        {
          "output_type": "error",
          "ename": "TypeError",
          "evalue": "ignored",
          "traceback": [
            "\u001b[0;31m---------------------------------------------------------------------------\u001b[0m",
            "\u001b[0;31mTypeError\u001b[0m                                 Traceback (most recent call last)",
            "\u001b[0;32m<ipython-input-143-26493a69e378>\u001b[0m in \u001b[0;36m<module>\u001b[0;34m()\u001b[0m\n\u001b[0;32m----> 1\u001b[0;31m \u001b[0msome_primes\u001b[0m\u001b[0;34m**\u001b[0m\u001b[0;36m2\u001b[0m\u001b[0;34m\u001b[0m\u001b[0;34m\u001b[0m\u001b[0m\n\u001b[0m",
            "\u001b[0;31mTypeError\u001b[0m: unsupported operand type(s) for ** or pow(): 'list' and 'int'"
          ]
        }
      ]
    },
    {
      "cell_type": "markdown",
      "metadata": {
        "id": "OHOG4rxnWC8h"
      },
      "source": [
        "Numpy arrays can be two dimensional, or more!"
      ]
    },
    {
      "cell_type": "code",
      "metadata": {
        "colab": {
          "base_uri": "https://localhost:8080/"
        },
        "id": "KttpE1dCWHSR",
        "outputId": "a57aa654-30f7-44dc-8488-fb6e8d298fce"
      },
      "source": [
        "two_d_array = np.array([[2,3,4,4,5],[3,4,5,2,1],[5,3,0,-1,0],[7,4,5,1,-1],[-9,4,6,2,1]])\n",
        "two_d_array"
      ],
      "execution_count": 146,
      "outputs": [
        {
          "output_type": "execute_result",
          "data": {
            "text/plain": [
              "array([[ 2,  3,  4,  4,  5],\n",
              "       [ 3,  4,  5,  2,  1],\n",
              "       [ 5,  3,  0, -1,  0],\n",
              "       [ 7,  4,  5,  1, -1],\n",
              "       [-9,  4,  6,  2,  1]])"
            ]
          },
          "metadata": {
            "tags": []
          },
          "execution_count": 146
        }
      ]
    },
    {
      "cell_type": "markdown",
      "metadata": {
        "id": "kYpqKI33WX3p"
      },
      "source": [
        "We can do matrix multiplication:"
      ]
    },
    {
      "cell_type": "code",
      "metadata": {
        "colab": {
          "base_uri": "https://localhost:8080/"
        },
        "id": "4CZFMheeWWPG",
        "outputId": "1dc53a80-b831-4ef6-d25c-ea7d261c0a16"
      },
      "source": [
        "new_array @ two_d_array"
      ],
      "execution_count": 148,
      "outputs": [
        {
          "output_type": "execute_result",
          "data": {
            "text/plain": [
              "array([-30, 113, 136,  42,  19])"
            ]
          },
          "metadata": {
            "tags": []
          },
          "execution_count": 148
        }
      ]
    },
    {
      "cell_type": "markdown",
      "metadata": {
        "id": "xgsYzBfOWcaE"
      },
      "source": [
        "We can also use all sorts of special functions:"
      ]
    },
    {
      "cell_type": "code",
      "metadata": {
        "colab": {
          "base_uri": "https://localhost:8080/"
        },
        "id": "g7o_EZB3WWWI",
        "outputId": "55d1625f-7cf1-44a5-8574-95fd2081cd5b"
      },
      "source": [
        "np.tan(0)"
      ],
      "execution_count": 102,
      "outputs": [
        {
          "output_type": "execute_result",
          "data": {
            "text/plain": [
              "0.0"
            ]
          },
          "metadata": {
            "tags": []
          },
          "execution_count": 102
        }
      ]
    },
    {
      "cell_type": "code",
      "metadata": {
        "colab": {
          "base_uri": "https://localhost:8080/"
        },
        "id": "FLe50IIWWkpl",
        "outputId": "5c70b790-77cf-4794-e8b1-9b6b1b81529c"
      },
      "source": [
        "np.sinh(1)"
      ],
      "execution_count": 104,
      "outputs": [
        {
          "output_type": "execute_result",
          "data": {
            "text/plain": [
              "1.1752011936438014"
            ]
          },
          "metadata": {
            "tags": []
          },
          "execution_count": 104
        }
      ]
    },
    {
      "cell_type": "code",
      "metadata": {
        "colab": {
          "base_uri": "https://localhost:8080/"
        },
        "id": "xu2pAuMQijPY",
        "outputId": "3dacb0c3-1816-48aa-8e26-5b45d79baf78"
      },
      "source": [
        "np.pi"
      ],
      "execution_count": 149,
      "outputs": [
        {
          "output_type": "execute_result",
          "data": {
            "text/plain": [
              "3.141592653589793"
            ]
          },
          "metadata": {
            "tags": []
          },
          "execution_count": 149
        }
      ]
    },
    {
      "cell_type": "markdown",
      "metadata": {
        "id": "mwmx66wZWtt6"
      },
      "source": [
        "We can generate special arrays conveniently using a built in function:"
      ]
    },
    {
      "cell_type": "code",
      "metadata": {
        "id": "x6DCp669WyPn"
      },
      "source": [
        "list_of_zeros = np.zeros(10)\n",
        "list_of_ones = np.ones(10)\n",
        "one_to_ten = np.arange(0,10,1) #generates by given step\n",
        "lots_of_data_in_range = np.linspace(0,10,100) #generates with a step size calculated to meet length requirement"
      ],
      "execution_count": 155,
      "outputs": []
    },
    {
      "cell_type": "code",
      "metadata": {
        "colab": {
          "base_uri": "https://localhost:8080/"
        },
        "id": "2QSEgoEuXMCo",
        "outputId": "6bba0ce0-2afd-4ae7-ef93-460e79014069"
      },
      "source": [
        "list_of_zeros"
      ],
      "execution_count": 151,
      "outputs": [
        {
          "output_type": "execute_result",
          "data": {
            "text/plain": [
              "array([0., 0., 0., 0., 0., 0., 0., 0., 0., 0.])"
            ]
          },
          "metadata": {
            "tags": []
          },
          "execution_count": 151
        }
      ]
    },
    {
      "cell_type": "code",
      "metadata": {
        "colab": {
          "base_uri": "https://localhost:8080/"
        },
        "id": "vclXkgnmXNE0",
        "outputId": "958ad57c-6671-4c54-af05-6b03e2d7bce8"
      },
      "source": [
        "list_of_ones"
      ],
      "execution_count": 152,
      "outputs": [
        {
          "output_type": "execute_result",
          "data": {
            "text/plain": [
              "array([1., 1., 1., 1., 1., 1., 1., 1., 1., 1.])"
            ]
          },
          "metadata": {
            "tags": []
          },
          "execution_count": 152
        }
      ]
    },
    {
      "cell_type": "code",
      "metadata": {
        "colab": {
          "base_uri": "https://localhost:8080/"
        },
        "id": "butG1guBXOgN",
        "outputId": "586e1ea5-0415-418c-8b61-b66750e89c85"
      },
      "source": [
        "one_to_ten"
      ],
      "execution_count": 154,
      "outputs": [
        {
          "output_type": "execute_result",
          "data": {
            "text/plain": [
              "array([0, 1, 2, 3, 4, 5, 6, 7, 8, 9])"
            ]
          },
          "metadata": {
            "tags": []
          },
          "execution_count": 154
        }
      ]
    },
    {
      "cell_type": "code",
      "metadata": {
        "colab": {
          "base_uri": "https://localhost:8080/"
        },
        "id": "xOrEuuy4XPab",
        "outputId": "92ef5617-0953-44fb-f1e0-e0acd44aa48d"
      },
      "source": [
        "lots_of_data_in_range"
      ],
      "execution_count": 156,
      "outputs": [
        {
          "output_type": "execute_result",
          "data": {
            "text/plain": [
              "array([ 0.        ,  0.1010101 ,  0.2020202 ,  0.3030303 ,  0.4040404 ,\n",
              "        0.50505051,  0.60606061,  0.70707071,  0.80808081,  0.90909091,\n",
              "        1.01010101,  1.11111111,  1.21212121,  1.31313131,  1.41414141,\n",
              "        1.51515152,  1.61616162,  1.71717172,  1.81818182,  1.91919192,\n",
              "        2.02020202,  2.12121212,  2.22222222,  2.32323232,  2.42424242,\n",
              "        2.52525253,  2.62626263,  2.72727273,  2.82828283,  2.92929293,\n",
              "        3.03030303,  3.13131313,  3.23232323,  3.33333333,  3.43434343,\n",
              "        3.53535354,  3.63636364,  3.73737374,  3.83838384,  3.93939394,\n",
              "        4.04040404,  4.14141414,  4.24242424,  4.34343434,  4.44444444,\n",
              "        4.54545455,  4.64646465,  4.74747475,  4.84848485,  4.94949495,\n",
              "        5.05050505,  5.15151515,  5.25252525,  5.35353535,  5.45454545,\n",
              "        5.55555556,  5.65656566,  5.75757576,  5.85858586,  5.95959596,\n",
              "        6.06060606,  6.16161616,  6.26262626,  6.36363636,  6.46464646,\n",
              "        6.56565657,  6.66666667,  6.76767677,  6.86868687,  6.96969697,\n",
              "        7.07070707,  7.17171717,  7.27272727,  7.37373737,  7.47474747,\n",
              "        7.57575758,  7.67676768,  7.77777778,  7.87878788,  7.97979798,\n",
              "        8.08080808,  8.18181818,  8.28282828,  8.38383838,  8.48484848,\n",
              "        8.58585859,  8.68686869,  8.78787879,  8.88888889,  8.98989899,\n",
              "        9.09090909,  9.19191919,  9.29292929,  9.39393939,  9.49494949,\n",
              "        9.5959596 ,  9.6969697 ,  9.7979798 ,  9.8989899 , 10.        ])"
            ]
          },
          "metadata": {
            "tags": []
          },
          "execution_count": 156
        }
      ]
    },
    {
      "cell_type": "markdown",
      "metadata": {
        "id": "YKLCQ9FnXY_d"
      },
      "source": [
        "It's easy to do operations on any of these arrays!"
      ]
    },
    {
      "cell_type": "code",
      "metadata": {
        "colab": {
          "base_uri": "https://localhost:8080/"
        },
        "id": "zoakNCpsXTQJ",
        "outputId": "8bea5ed4-7707-4fbc-f70c-238f9336314b"
      },
      "source": [
        "new_data = np.sin(lots_of_data_in_range)\n",
        "new_data"
      ],
      "execution_count": 157,
      "outputs": [
        {
          "output_type": "execute_result",
          "data": {
            "text/plain": [
              "array([ 0.        ,  0.10083842,  0.20064886,  0.2984138 ,  0.39313661,\n",
              "        0.48385164,  0.56963411,  0.64960951,  0.72296256,  0.78894546,\n",
              "        0.84688556,  0.8961922 ,  0.93636273,  0.96698762,  0.98775469,\n",
              "        0.99845223,  0.99897117,  0.98930624,  0.96955595,  0.93992165,\n",
              "        0.90070545,  0.85230712,  0.79522006,  0.73002623,  0.65739025,\n",
              "        0.57805259,  0.49282204,  0.40256749,  0.30820902,  0.21070855,\n",
              "        0.11106004,  0.01027934, -0.09060615, -0.19056796, -0.28858706,\n",
              "       -0.38366419, -0.47483011, -0.56115544, -0.64176014, -0.7158225 ,\n",
              "       -0.7825875 , -0.84137452, -0.89158426, -0.93270486, -0.96431712,\n",
              "       -0.98609877, -0.99782778, -0.99938456, -0.99075324, -0.97202182,\n",
              "       -0.94338126, -0.90512352, -0.85763861, -0.80141062, -0.73701276,\n",
              "       -0.66510151, -0.58640998, -0.50174037, -0.41195583, -0.31797166,\n",
              "       -0.22074597, -0.12126992, -0.0205576 ,  0.0803643 ,  0.18046693,\n",
              "        0.27872982,  0.37415123,  0.46575841,  0.55261747,  0.63384295,\n",
              "        0.7086068 ,  0.77614685,  0.83577457,  0.8868821 ,  0.92894843,\n",
              "        0.96154471,  0.98433866,  0.99709789,  0.99969234,  0.99209556,\n",
              "        0.97438499,  0.94674118,  0.90944594,  0.86287948,  0.8075165 ,\n",
              "        0.74392141,  0.6727425 ,  0.59470541,  0.51060568,  0.42130064,\n",
              "        0.32770071,  0.23076008,  0.13146699,  0.03083368, -0.07011396,\n",
              "       -0.17034683, -0.26884313, -0.36459873, -0.45663749, -0.54402111])"
            ]
          },
          "metadata": {
            "tags": []
          },
          "execution_count": 157
        }
      ]
    },
    {
      "cell_type": "markdown",
      "metadata": {
        "id": "rUZTxRlZtdjZ"
      },
      "source": [
        "#3. SciPy: Tools for statistics and more\n"
      ]
    },
    {
      "cell_type": "markdown",
      "metadata": {
        "id": "iCqw5ow1wQa0"
      },
      "source": [
        "If you want to use Python instead of R (which I have done recently, because of Python's speed and more modern programming conventions), then you will find yourself using SciPy a lot. Let's show how we do linear regression."
      ]
    },
    {
      "cell_type": "code",
      "metadata": {
        "id": "iojAJO_av0xS"
      },
      "source": [
        "from scipy.stats import linregress #We can import just one function from the package!"
      ],
      "execution_count": 158,
      "outputs": []
    },
    {
      "cell_type": "markdown",
      "metadata": {
        "id": "iIrXzRAmxGCj"
      },
      "source": [
        "Here's some toy data! We introduce randomization using the random subpackage of NumPy."
      ]
    },
    {
      "cell_type": "code",
      "metadata": {
        "id": "PEaGkl9HxISL"
      },
      "source": [
        "linreg_x = np.linspace(-10,10,1000)\n",
        "linreg_y = (linreg_x*5)+6+np.random.normal(0,10,1000) #Y = 5x+6 + gaussian noise with mean 0, standard devation 10"
      ],
      "execution_count": 172,
      "outputs": []
    },
    {
      "cell_type": "code",
      "metadata": {
        "id": "pJUTPsrOwKr7"
      },
      "source": [
        "slope, intercept, r_value, p_value, std_err = linregress(linreg_x,linreg_y) #The function returns many useful values!"
      ],
      "execution_count": 173,
      "outputs": []
    },
    {
      "cell_type": "code",
      "metadata": {
        "colab": {
          "base_uri": "https://localhost:8080/"
        },
        "id": "01ctakjOxjR7",
        "outputId": "ac38cad6-fb03-4a20-df93-49659a98e62b"
      },
      "source": [
        "print(f'The equation of our line is y = {np.round(slope,2)}x + {np.round(intercept,2)}, with an R2 value of {np.round(r_value**2,3)}.')"
      ],
      "execution_count": 174,
      "outputs": [
        {
          "output_type": "stream",
          "text": [
            "The equation of our line is y = 5.01x + 6.12, with an R2 value of 0.892.\n"
          ],
          "name": "stdout"
        }
      ]
    },
    {
      "cell_type": "markdown",
      "metadata": {
        "id": "Z-GcMl1i4PVa"
      },
      "source": [
        "Exercise: tell us your results! Since the noise is random everyone will get different regression values. Note, we can output data we don't like to a throwaway variable `_`."
      ]
    },
    {
      "cell_type": "code",
      "metadata": {
        "id": "b-QcGJG64bXX"
      },
      "source": [
        "slope, intercept, _, _, _ = linregress(linreg_x,linreg_y)\n",
        "slope, intercept, *_ = linregress(linreg_x,linreg_y) #Star in Python means \"unravel\", so equivalent to above."
      ],
      "execution_count": 50,
      "outputs": []
    },
    {
      "cell_type": "code",
      "metadata": {
        "colab": {
          "base_uri": "https://localhost:8080/",
          "height": 171
        },
        "id": "xgqbHWeKk6du",
        "outputId": "6b37650f-d49e-466c-faa1-c25170cf2c6e"
      },
      "source": [
        "slope, intercept = linregress(linreg_x,linreg_y) #Star in Python means \"unravel\", so equivalent to above."
      ],
      "execution_count": 178,
      "outputs": [
        {
          "output_type": "error",
          "ename": "ValueError",
          "evalue": "ignored",
          "traceback": [
            "\u001b[0;31m---------------------------------------------------------------------------\u001b[0m",
            "\u001b[0;31mValueError\u001b[0m                                Traceback (most recent call last)",
            "\u001b[0;32m<ipython-input-178-7d3ef9e00cd0>\u001b[0m in \u001b[0;36m<module>\u001b[0;34m()\u001b[0m\n\u001b[0;32m----> 1\u001b[0;31m \u001b[0mslope\u001b[0m\u001b[0;34m,\u001b[0m \u001b[0mintercept\u001b[0m \u001b[0;34m=\u001b[0m \u001b[0mlinregress\u001b[0m\u001b[0;34m(\u001b[0m\u001b[0mlinreg_x\u001b[0m\u001b[0;34m,\u001b[0m\u001b[0mlinreg_y\u001b[0m\u001b[0;34m)\u001b[0m \u001b[0;31m#Star in Python means \"unravel\", so equivalent to above.\u001b[0m\u001b[0;34m\u001b[0m\u001b[0;34m\u001b[0m\u001b[0m\n\u001b[0m",
            "\u001b[0;31mValueError\u001b[0m: too many values to unpack (expected 2)"
          ]
        }
      ]
    },
    {
      "cell_type": "markdown",
      "metadata": {
        "id": "ocLLNABytrw1"
      },
      "source": [
        "#4. Pandas: Loading and working with (very) big data\n"
      ]
    },
    {
      "cell_type": "code",
      "metadata": {
        "id": "9Q8uczWv00aU"
      },
      "source": [
        "import pandas as pd"
      ],
      "execution_count": 180,
      "outputs": []
    },
    {
      "cell_type": "markdown",
      "metadata": {
        "id": "c_k7YQSF627n"
      },
      "source": [
        "Pandas has lots of great tools to load many different dataset types. Let's load a CSV, or comma separated value, file with some data from models I've been running."
      ]
    },
    {
      "cell_type": "code",
      "metadata": {
        "id": "Kz6fteTi5OJB"
      },
      "source": [
        "model_enkf = pd.read_csv('assimemis_saprc99_model_run_enkf.csv')"
      ],
      "execution_count": 181,
      "outputs": []
    },
    {
      "cell_type": "markdown",
      "metadata": {
        "id": "663laXZa6_48"
      },
      "source": [
        "We can take a look at all the data in spreadsheet form!"
      ]
    },
    {
      "cell_type": "code",
      "metadata": {
        "colab": {
          "base_uri": "https://localhost:8080/",
          "height": 461
        },
        "id": "3JL1Bfr65Q09",
        "outputId": "8e0e6133-4123-4d96-f929-daa3642b9662"
      },
      "source": [
        "model_enkf"
      ],
      "execution_count": 182,
      "outputs": [
        {
          "output_type": "execute_result",
          "data": {
            "text/html": [
              "<div>\n",
              "<style scoped>\n",
              "    .dataframe tbody tr th:only-of-type {\n",
              "        vertical-align: middle;\n",
              "    }\n",
              "\n",
              "    .dataframe tbody tr th {\n",
              "        vertical-align: top;\n",
              "    }\n",
              "\n",
              "    .dataframe thead th {\n",
              "        text-align: right;\n",
              "    }\n",
              "</style>\n",
              "<table border=\"1\" class=\"dataframe\">\n",
              "  <thead>\n",
              "    <tr style=\"text-align: right;\">\n",
              "      <th></th>\n",
              "      <th>Unnamed: 0</th>\n",
              "      <th>H2SO4</th>\n",
              "      <th>HCOOH</th>\n",
              "      <th>CCO_OH</th>\n",
              "      <th>RCO_OH</th>\n",
              "      <th>CCO_OOH</th>\n",
              "      <th>RCO_OOH</th>\n",
              "      <th>XN</th>\n",
              "      <th>XC</th>\n",
              "      <th>SO2</th>\n",
              "      <th>O1D</th>\n",
              "      <th>ALK1</th>\n",
              "      <th>BACL</th>\n",
              "      <th>PAN</th>\n",
              "      <th>PAN2</th>\n",
              "      <th>PBZN</th>\n",
              "      <th>MA_PAN</th>\n",
              "      <th>H2O2</th>\n",
              "      <th>N2O5</th>\n",
              "      <th>HONO</th>\n",
              "      <th>ALK2</th>\n",
              "      <th>ALK3</th>\n",
              "      <th>TBU_O</th>\n",
              "      <th>ALK5</th>\n",
              "      <th>ARO2</th>\n",
              "      <th>HNO4</th>\n",
              "      <th>COOH</th>\n",
              "      <th>HOCOO</th>\n",
              "      <th>BZNO2_O</th>\n",
              "      <th>MEOH</th>\n",
              "      <th>ALK4</th>\n",
              "      <th>ARO1</th>\n",
              "      <th>DCB2</th>\n",
              "      <th>DCB3</th>\n",
              "      <th>CRES</th>\n",
              "      <th>DCB1</th>\n",
              "      <th>NPHE</th>\n",
              "      <th>ROOH</th>\n",
              "      <th>BALD</th>\n",
              "      <th>PHEN</th>\n",
              "      <th>CO</th>\n",
              "      <th>MGLY</th>\n",
              "      <th>ACET</th>\n",
              "      <th>HNO3</th>\n",
              "      <th>ETHENE</th>\n",
              "      <th>GLY</th>\n",
              "      <th>BZ_O</th>\n",
              "      <th>ISOPRENE</th>\n",
              "      <th>R2O2</th>\n",
              "      <th>TERP</th>\n",
              "      <th>METHACRO</th>\n",
              "      <th>OLE1</th>\n",
              "      <th>ISOPROD</th>\n",
              "      <th>OLE2</th>\n",
              "      <th>MVK</th>\n",
              "      <th>CCHO</th>\n",
              "      <th>HCHO</th>\n",
              "      <th>RNO3</th>\n",
              "      <th>O3P</th>\n",
              "      <th>RCHO</th>\n",
              "      <th>MEK</th>\n",
              "      <th>PROD2</th>\n",
              "      <th>O3</th>\n",
              "      <th>HO2</th>\n",
              "      <th>RO2_N</th>\n",
              "      <th>MA_RCO3</th>\n",
              "      <th>C_O2</th>\n",
              "      <th>BZCO_O2</th>\n",
              "      <th>RO2_R</th>\n",
              "      <th>NO</th>\n",
              "      <th>NO2</th>\n",
              "      <th>NO3</th>\n",
              "      <th>CCO_O2</th>\n",
              "      <th>RCO_O2</th>\n",
              "      <th>OH</th>\n",
              "      <th>Hours_from_origin</th>\n",
              "    </tr>\n",
              "  </thead>\n",
              "  <tbody>\n",
              "    <tr>\n",
              "      <th>0</th>\n",
              "      <td>0</td>\n",
              "      <td>7.001549e+12</td>\n",
              "      <td>6.758093e+11</td>\n",
              "      <td>8.941913e+12</td>\n",
              "      <td>5.949456e+12</td>\n",
              "      <td>6.424187e+12</td>\n",
              "      <td>4.121035e+12</td>\n",
              "      <td>1.695804e+12</td>\n",
              "      <td>1.034367e+13</td>\n",
              "      <td>6.572232e+11</td>\n",
              "      <td>2.236434</td>\n",
              "      <td>5.078686e+11</td>\n",
              "      <td>7.599683e+08</td>\n",
              "      <td>2.562766e+12</td>\n",
              "      <td>2.071688e+12</td>\n",
              "      <td>1.607760e+10</td>\n",
              "      <td>6.809223e+09</td>\n",
              "      <td>7.613252e+11</td>\n",
              "      <td>8.022128e+09</td>\n",
              "      <td>7.272806e+08</td>\n",
              "      <td>2.299278e+11</td>\n",
              "      <td>2.267041e+11</td>\n",
              "      <td>2481.035322</td>\n",
              "      <td>4.163067e+10</td>\n",
              "      <td>4.345238e+09</td>\n",
              "      <td>1.567326e+10</td>\n",
              "      <td>1.688370e+11</td>\n",
              "      <td>517018.287580</td>\n",
              "      <td>4.524523e-09</td>\n",
              "      <td>1.198168e+11</td>\n",
              "      <td>1.235328e+11</td>\n",
              "      <td>2.167012e+10</td>\n",
              "      <td>2.459944e+08</td>\n",
              "      <td>7.992347e+07</td>\n",
              "      <td>1.231414e+08</td>\n",
              "      <td>2.434867e+09</td>\n",
              "      <td>6.298467e+08</td>\n",
              "      <td>2.489512e+11</td>\n",
              "      <td>1.179923e+09</td>\n",
              "      <td>7.032667e+07</td>\n",
              "      <td>2.613396e+13</td>\n",
              "      <td>2.826243e+09</td>\n",
              "      <td>2.488837e+12</td>\n",
              "      <td>1.410166e+13</td>\n",
              "      <td>2.333103e+10</td>\n",
              "      <td>5.701421e+09</td>\n",
              "      <td>141296.464631</td>\n",
              "      <td>3.807075e+07</td>\n",
              "      <td>4.669994e+08</td>\n",
              "      <td>3.000471e+07</td>\n",
              "      <td>4.455284e+08</td>\n",
              "      <td>2.841169e+09</td>\n",
              "      <td>5.234252e+07</td>\n",
              "      <td>4.365203e+08</td>\n",
              "      <td>1.124082e+08</td>\n",
              "      <td>2.562567e+11</td>\n",
              "      <td>3.887748e+11</td>\n",
              "      <td>3.479572e+10</td>\n",
              "      <td>311204.664816</td>\n",
              "      <td>1.817203e+11</td>\n",
              "      <td>3.410933e+11</td>\n",
              "      <td>3.259172e+10</td>\n",
              "      <td>2.595489e+13</td>\n",
              "      <td>3.007151e+09</td>\n",
              "      <td>7.946773e+07</td>\n",
              "      <td>778691.248678</td>\n",
              "      <td>1.462337e+09</td>\n",
              "      <td>1.409193e+06</td>\n",
              "      <td>1.360724e+09</td>\n",
              "      <td>7.018841e+09</td>\n",
              "      <td>3.676682e+11</td>\n",
              "      <td>8.589716e+08</td>\n",
              "      <td>5.042521e+08</td>\n",
              "      <td>3.058946e+08</td>\n",
              "      <td>2.912909e+07</td>\n",
              "      <td>1</td>\n",
              "    </tr>\n",
              "    <tr>\n",
              "      <th>1</th>\n",
              "      <td>1</td>\n",
              "      <td>7.056739e+12</td>\n",
              "      <td>6.806345e+11</td>\n",
              "      <td>9.008794e+12</td>\n",
              "      <td>5.991907e+12</td>\n",
              "      <td>6.480731e+12</td>\n",
              "      <td>4.155547e+12</td>\n",
              "      <td>1.708759e+12</td>\n",
              "      <td>1.038407e+13</td>\n",
              "      <td>6.552154e+11</td>\n",
              "      <td>2.241030</td>\n",
              "      <td>5.069907e+11</td>\n",
              "      <td>7.599467e+08</td>\n",
              "      <td>2.569969e+12</td>\n",
              "      <td>2.074987e+12</td>\n",
              "      <td>1.612899e+10</td>\n",
              "      <td>6.828921e+09</td>\n",
              "      <td>7.605795e+11</td>\n",
              "      <td>8.118313e+09</td>\n",
              "      <td>7.304418e+08</td>\n",
              "      <td>2.292581e+11</td>\n",
              "      <td>2.260478e+11</td>\n",
              "      <td>2480.508849</td>\n",
              "      <td>4.151941e+10</td>\n",
              "      <td>4.333578e+09</td>\n",
              "      <td>1.575044e+10</td>\n",
              "      <td>1.683295e+11</td>\n",
              "      <td>516602.016001</td>\n",
              "      <td>4.505225e-09</td>\n",
              "      <td>1.193689e+11</td>\n",
              "      <td>1.231950e+11</td>\n",
              "      <td>2.161446e+10</td>\n",
              "      <td>2.456819e+08</td>\n",
              "      <td>7.987334e+07</td>\n",
              "      <td>1.224331e+08</td>\n",
              "      <td>2.428556e+09</td>\n",
              "      <td>6.262631e+08</td>\n",
              "      <td>2.479928e+11</td>\n",
              "      <td>1.177249e+09</td>\n",
              "      <td>6.994146e+07</td>\n",
              "      <td>2.615811e+13</td>\n",
              "      <td>2.820718e+09</td>\n",
              "      <td>2.487177e+12</td>\n",
              "      <td>1.421954e+13</td>\n",
              "      <td>2.327420e+10</td>\n",
              "      <td>5.690510e+09</td>\n",
              "      <td>140694.938729</td>\n",
              "      <td>3.795977e+07</td>\n",
              "      <td>4.663455e+08</td>\n",
              "      <td>2.987697e+07</td>\n",
              "      <td>4.443479e+08</td>\n",
              "      <td>2.834528e+09</td>\n",
              "      <td>5.223189e+07</td>\n",
              "      <td>4.354153e+08</td>\n",
              "      <td>1.121573e+08</td>\n",
              "      <td>2.555114e+11</td>\n",
              "      <td>3.882915e+11</td>\n",
              "      <td>3.475244e+10</td>\n",
              "      <td>312032.659582</td>\n",
              "      <td>1.810884e+11</td>\n",
              "      <td>3.401561e+11</td>\n",
              "      <td>3.249485e+10</td>\n",
              "      <td>2.600824e+13</td>\n",
              "      <td>3.007608e+09</td>\n",
              "      <td>7.933578e+07</td>\n",
              "      <td>777175.748686</td>\n",
              "      <td>1.460067e+09</td>\n",
              "      <td>1.406868e+06</td>\n",
              "      <td>1.357585e+09</td>\n",
              "      <td>7.040903e+09</td>\n",
              "      <td>3.695409e+11</td>\n",
              "      <td>8.645698e+08</td>\n",
              "      <td>5.033295e+08</td>\n",
              "      <td>3.050316e+08</td>\n",
              "      <td>2.919360e+07</td>\n",
              "      <td>2</td>\n",
              "    </tr>\n",
              "    <tr>\n",
              "      <th>2</th>\n",
              "      <td>2</td>\n",
              "      <td>7.111902e+12</td>\n",
              "      <td>6.854578e+11</td>\n",
              "      <td>9.075488e+12</td>\n",
              "      <td>6.034208e+12</td>\n",
              "      <td>6.537193e+12</td>\n",
              "      <td>4.189977e+12</td>\n",
              "      <td>1.721719e+12</td>\n",
              "      <td>1.042449e+13</td>\n",
              "      <td>6.532342e+11</td>\n",
              "      <td>2.245620</td>\n",
              "      <td>5.061127e+11</td>\n",
              "      <td>7.599253e+08</td>\n",
              "      <td>2.577158e+12</td>\n",
              "      <td>2.078269e+12</td>\n",
              "      <td>1.618033e+10</td>\n",
              "      <td>6.848598e+09</td>\n",
              "      <td>7.598204e+11</td>\n",
              "      <td>8.215217e+09</td>\n",
              "      <td>7.335984e+08</td>\n",
              "      <td>2.285967e+11</td>\n",
              "      <td>2.253995e+11</td>\n",
              "      <td>2479.992735</td>\n",
              "      <td>4.140934e+10</td>\n",
              "      <td>4.322039e+09</td>\n",
              "      <td>1.582744e+10</td>\n",
              "      <td>1.678245e+11</td>\n",
              "      <td>516181.871454</td>\n",
              "      <td>4.486084e-09</td>\n",
              "      <td>1.189264e+11</td>\n",
              "      <td>1.228609e+11</td>\n",
              "      <td>2.155942e+10</td>\n",
              "      <td>2.453723e+08</td>\n",
              "      <td>7.982363e+07</td>\n",
              "      <td>1.217323e+08</td>\n",
              "      <td>2.422312e+09</td>\n",
              "      <td>6.227176e+08</td>\n",
              "      <td>2.470417e+11</td>\n",
              "      <td>1.174601e+09</td>\n",
              "      <td>6.956023e+07</td>\n",
              "      <td>2.618108e+13</td>\n",
              "      <td>2.815244e+09</td>\n",
              "      <td>2.485469e+12</td>\n",
              "      <td>1.433743e+13</td>\n",
              "      <td>2.321793e+10</td>\n",
              "      <td>5.679727e+09</td>\n",
              "      <td>140098.281191</td>\n",
              "      <td>3.784982e+07</td>\n",
              "      <td>4.656956e+08</td>\n",
              "      <td>2.975036e+07</td>\n",
              "      <td>4.431791e+08</td>\n",
              "      <td>2.827953e+09</td>\n",
              "      <td>5.212241e+07</td>\n",
              "      <td>4.343184e+08</td>\n",
              "      <td>1.119089e+08</td>\n",
              "      <td>2.547734e+11</td>\n",
              "      <td>3.878119e+11</td>\n",
              "      <td>3.471002e+10</td>\n",
              "      <td>312860.353069</td>\n",
              "      <td>1.804618e+11</td>\n",
              "      <td>3.392326e+11</td>\n",
              "      <td>3.239912e+10</td>\n",
              "      <td>2.606151e+13</td>\n",
              "      <td>3.008016e+09</td>\n",
              "      <td>7.920511e+07</td>\n",
              "      <td>775668.338145</td>\n",
              "      <td>1.457808e+09</td>\n",
              "      <td>1.404553e+06</td>\n",
              "      <td>1.354468e+09</td>\n",
              "      <td>7.062946e+09</td>\n",
              "      <td>3.714164e+11</td>\n",
              "      <td>8.701764e+08</td>\n",
              "      <td>5.024114e+08</td>\n",
              "      <td>3.041734e+08</td>\n",
              "      <td>2.925766e+07</td>\n",
              "      <td>3</td>\n",
              "    </tr>\n",
              "    <tr>\n",
              "      <th>3</th>\n",
              "      <td>3</td>\n",
              "      <td>7.167038e+12</td>\n",
              "      <td>6.902794e+11</td>\n",
              "      <td>9.141997e+12</td>\n",
              "      <td>6.076358e+12</td>\n",
              "      <td>6.593574e+12</td>\n",
              "      <td>4.224327e+12</td>\n",
              "      <td>1.734684e+12</td>\n",
              "      <td>1.046492e+13</td>\n",
              "      <td>6.512789e+11</td>\n",
              "      <td>2.250204</td>\n",
              "      <td>5.052349e+11</td>\n",
              "      <td>7.599043e+08</td>\n",
              "      <td>2.584334e+12</td>\n",
              "      <td>2.081532e+12</td>\n",
              "      <td>1.623162e+10</td>\n",
              "      <td>6.868255e+09</td>\n",
              "      <td>7.590481e+11</td>\n",
              "      <td>8.312838e+09</td>\n",
              "      <td>7.367502e+08</td>\n",
              "      <td>2.279432e+11</td>\n",
              "      <td>2.247588e+11</td>\n",
              "      <td>2479.486536</td>\n",
              "      <td>4.130044e+10</td>\n",
              "      <td>4.310620e+09</td>\n",
              "      <td>1.590428e+10</td>\n",
              "      <td>1.673220e+11</td>\n",
              "      <td>515757.865263</td>\n",
              "      <td>4.467097e-09</td>\n",
              "      <td>1.184891e+11</td>\n",
              "      <td>1.225304e+11</td>\n",
              "      <td>2.150498e+10</td>\n",
              "      <td>2.450654e+08</td>\n",
              "      <td>7.977431e+07</td>\n",
              "      <td>1.210390e+08</td>\n",
              "      <td>2.416134e+09</td>\n",
              "      <td>6.192095e+08</td>\n",
              "      <td>2.460977e+11</td>\n",
              "      <td>1.171978e+09</td>\n",
              "      <td>6.918292e+07</td>\n",
              "      <td>2.620289e+13</td>\n",
              "      <td>2.809821e+09</td>\n",
              "      <td>2.483714e+12</td>\n",
              "      <td>1.445533e+13</td>\n",
              "      <td>2.316220e+10</td>\n",
              "      <td>5.669066e+09</td>\n",
              "      <td>139506.430517</td>\n",
              "      <td>3.774089e+07</td>\n",
              "      <td>4.650494e+08</td>\n",
              "      <td>2.962486e+07</td>\n",
              "      <td>4.420219e+08</td>\n",
              "      <td>2.821444e+09</td>\n",
              "      <td>5.201404e+07</td>\n",
              "      <td>4.332296e+08</td>\n",
              "      <td>1.116631e+08</td>\n",
              "      <td>2.540424e+11</td>\n",
              "      <td>3.873358e+11</td>\n",
              "      <td>3.466843e+10</td>\n",
              "      <td>313687.723036</td>\n",
              "      <td>1.798404e+11</td>\n",
              "      <td>3.383223e+11</td>\n",
              "      <td>3.230448e+10</td>\n",
              "      <td>2.611470e+13</td>\n",
              "      <td>3.008378e+09</td>\n",
              "      <td>7.907568e+07</td>\n",
              "      <td>774168.961572</td>\n",
              "      <td>1.455558e+09</td>\n",
              "      <td>1.402247e+06</td>\n",
              "      <td>1.351374e+09</td>\n",
              "      <td>7.084968e+09</td>\n",
              "      <td>3.732946e+11</td>\n",
              "      <td>8.757912e+08</td>\n",
              "      <td>5.014976e+08</td>\n",
              "      <td>3.033198e+08</td>\n",
              "      <td>2.932125e+07</td>\n",
              "      <td>4</td>\n",
              "    </tr>\n",
              "    <tr>\n",
              "      <th>4</th>\n",
              "      <td>4</td>\n",
              "      <td>7.222150e+12</td>\n",
              "      <td>6.950992e+11</td>\n",
              "      <td>9.208323e+12</td>\n",
              "      <td>6.118360e+12</td>\n",
              "      <td>6.649871e+12</td>\n",
              "      <td>4.258596e+12</td>\n",
              "      <td>1.747655e+12</td>\n",
              "      <td>1.050536e+13</td>\n",
              "      <td>6.493487e+11</td>\n",
              "      <td>2.254779</td>\n",
              "      <td>5.043573e+11</td>\n",
              "      <td>7.598835e+08</td>\n",
              "      <td>2.591497e+12</td>\n",
              "      <td>2.084777e+12</td>\n",
              "      <td>1.628284e+10</td>\n",
              "      <td>6.887892e+09</td>\n",
              "      <td>7.582628e+11</td>\n",
              "      <td>8.411176e+09</td>\n",
              "      <td>7.398974e+08</td>\n",
              "      <td>2.272974e+11</td>\n",
              "      <td>2.241256e+11</td>\n",
              "      <td>2478.989834</td>\n",
              "      <td>4.119266e+10</td>\n",
              "      <td>4.299317e+09</td>\n",
              "      <td>1.598094e+10</td>\n",
              "      <td>1.668219e+11</td>\n",
              "      <td>515330.013718</td>\n",
              "      <td>4.448263e-09</td>\n",
              "      <td>1.180569e+11</td>\n",
              "      <td>1.222035e+11</td>\n",
              "      <td>2.145113e+10</td>\n",
              "      <td>2.447611e+08</td>\n",
              "      <td>7.972539e+07</td>\n",
              "      <td>1.203530e+08</td>\n",
              "      <td>2.410021e+09</td>\n",
              "      <td>6.157385e+08</td>\n",
              "      <td>2.451607e+11</td>\n",
              "      <td>1.169381e+09</td>\n",
              "      <td>6.880947e+07</td>\n",
              "      <td>2.622357e+13</td>\n",
              "      <td>2.804447e+09</td>\n",
              "      <td>2.481914e+12</td>\n",
              "      <td>1.457323e+13</td>\n",
              "      <td>2.310701e+10</td>\n",
              "      <td>5.658526e+09</td>\n",
              "      <td>138919.326696</td>\n",
              "      <td>3.763296e+07</td>\n",
              "      <td>4.644071e+08</td>\n",
              "      <td>2.950047e+07</td>\n",
              "      <td>4.408759e+08</td>\n",
              "      <td>2.814999e+09</td>\n",
              "      <td>5.190679e+07</td>\n",
              "      <td>4.321487e+08</td>\n",
              "      <td>1.114197e+08</td>\n",
              "      <td>2.533184e+11</td>\n",
              "      <td>3.868632e+11</td>\n",
              "      <td>3.462767e+10</td>\n",
              "      <td>314514.747632</td>\n",
              "      <td>1.792240e+11</td>\n",
              "      <td>3.374249e+11</td>\n",
              "      <td>3.221092e+10</td>\n",
              "      <td>2.616780e+13</td>\n",
              "      <td>3.008694e+09</td>\n",
              "      <td>7.894747e+07</td>\n",
              "      <td>772677.561668</td>\n",
              "      <td>1.453317e+09</td>\n",
              "      <td>1.399952e+06</td>\n",
              "      <td>1.348301e+09</td>\n",
              "      <td>7.106970e+09</td>\n",
              "      <td>3.751755e+11</td>\n",
              "      <td>8.814141e+08</td>\n",
              "      <td>5.005880e+08</td>\n",
              "      <td>3.024708e+08</td>\n",
              "      <td>2.938439e+07</td>\n",
              "      <td>5</td>\n",
              "    </tr>\n",
              "    <tr>\n",
              "      <th>...</th>\n",
              "      <td>...</td>\n",
              "      <td>...</td>\n",
              "      <td>...</td>\n",
              "      <td>...</td>\n",
              "      <td>...</td>\n",
              "      <td>...</td>\n",
              "      <td>...</td>\n",
              "      <td>...</td>\n",
              "      <td>...</td>\n",
              "      <td>...</td>\n",
              "      <td>...</td>\n",
              "      <td>...</td>\n",
              "      <td>...</td>\n",
              "      <td>...</td>\n",
              "      <td>...</td>\n",
              "      <td>...</td>\n",
              "      <td>...</td>\n",
              "      <td>...</td>\n",
              "      <td>...</td>\n",
              "      <td>...</td>\n",
              "      <td>...</td>\n",
              "      <td>...</td>\n",
              "      <td>...</td>\n",
              "      <td>...</td>\n",
              "      <td>...</td>\n",
              "      <td>...</td>\n",
              "      <td>...</td>\n",
              "      <td>...</td>\n",
              "      <td>...</td>\n",
              "      <td>...</td>\n",
              "      <td>...</td>\n",
              "      <td>...</td>\n",
              "      <td>...</td>\n",
              "      <td>...</td>\n",
              "      <td>...</td>\n",
              "      <td>...</td>\n",
              "      <td>...</td>\n",
              "      <td>...</td>\n",
              "      <td>...</td>\n",
              "      <td>...</td>\n",
              "      <td>...</td>\n",
              "      <td>...</td>\n",
              "      <td>...</td>\n",
              "      <td>...</td>\n",
              "      <td>...</td>\n",
              "      <td>...</td>\n",
              "      <td>...</td>\n",
              "      <td>...</td>\n",
              "      <td>...</td>\n",
              "      <td>...</td>\n",
              "      <td>...</td>\n",
              "      <td>...</td>\n",
              "      <td>...</td>\n",
              "      <td>...</td>\n",
              "      <td>...</td>\n",
              "      <td>...</td>\n",
              "      <td>...</td>\n",
              "      <td>...</td>\n",
              "      <td>...</td>\n",
              "      <td>...</td>\n",
              "      <td>...</td>\n",
              "      <td>...</td>\n",
              "      <td>...</td>\n",
              "      <td>...</td>\n",
              "      <td>...</td>\n",
              "      <td>...</td>\n",
              "      <td>...</td>\n",
              "      <td>...</td>\n",
              "      <td>...</td>\n",
              "      <td>...</td>\n",
              "      <td>...</td>\n",
              "      <td>...</td>\n",
              "      <td>...</td>\n",
              "      <td>...</td>\n",
              "      <td>...</td>\n",
              "      <td>...</td>\n",
              "    </tr>\n",
              "    <tr>\n",
              "      <th>355</th>\n",
              "      <td>355</td>\n",
              "      <td>1.979840e+13</td>\n",
              "      <td>2.837793e+12</td>\n",
              "      <td>1.294894e+13</td>\n",
              "      <td>7.214209e+12</td>\n",
              "      <td>1.255899e+13</td>\n",
              "      <td>6.283206e+12</td>\n",
              "      <td>5.159870e+12</td>\n",
              "      <td>2.096873e+13</td>\n",
              "      <td>3.612701e+11</td>\n",
              "      <td>3.575721</td>\n",
              "      <td>4.109524e+11</td>\n",
              "      <td>2.056783e+08</td>\n",
              "      <td>3.777708e+12</td>\n",
              "      <td>1.822436e+12</td>\n",
              "      <td>2.889010e+10</td>\n",
              "      <td>1.173120e+10</td>\n",
              "      <td>2.299458e+11</td>\n",
              "      <td>1.170322e+11</td>\n",
              "      <td>1.737137e+09</td>\n",
              "      <td>2.813911e+11</td>\n",
              "      <td>9.517099e+10</td>\n",
              "      <td>1382.324256</td>\n",
              "      <td>2.249230e+10</td>\n",
              "      <td>8.873587e+08</td>\n",
              "      <td>3.826783e+10</td>\n",
              "      <td>2.800042e+10</td>\n",
              "      <td>226676.087403</td>\n",
              "      <td>8.471017e-10</td>\n",
              "      <td>8.413505e+10</td>\n",
              "      <td>8.035891e+10</td>\n",
              "      <td>1.967441e+10</td>\n",
              "      <td>1.653549e+08</td>\n",
              "      <td>4.543829e+07</td>\n",
              "      <td>1.933115e+07</td>\n",
              "      <td>1.333696e+09</td>\n",
              "      <td>1.180772e+08</td>\n",
              "      <td>3.514438e+10</td>\n",
              "      <td>8.438156e+08</td>\n",
              "      <td>2.204869e+07</td>\n",
              "      <td>1.834849e+13</td>\n",
              "      <td>1.427934e+09</td>\n",
              "      <td>1.813852e+12</td>\n",
              "      <td>7.643395e+13</td>\n",
              "      <td>1.116020e+10</td>\n",
              "      <td>6.214509e+09</td>\n",
              "      <td>26475.754440</td>\n",
              "      <td>2.190584e+07</td>\n",
              "      <td>2.184671e+08</td>\n",
              "      <td>1.326222e+07</td>\n",
              "      <td>2.790062e+08</td>\n",
              "      <td>2.435376e+09</td>\n",
              "      <td>4.996400e+07</td>\n",
              "      <td>3.124331e+08</td>\n",
              "      <td>1.104518e+08</td>\n",
              "      <td>1.164146e+11</td>\n",
              "      <td>2.885109e+11</td>\n",
              "      <td>4.009842e+10</td>\n",
              "      <td>649908.478124</td>\n",
              "      <td>5.214883e+10</td>\n",
              "      <td>2.085185e+11</td>\n",
              "      <td>2.011410e+10</td>\n",
              "      <td>4.149796e+13</td>\n",
              "      <td>1.781141e+09</td>\n",
              "      <td>3.811729e+07</td>\n",
              "      <td>309593.592625</td>\n",
              "      <td>5.446982e+08</td>\n",
              "      <td>5.947929e+05</td>\n",
              "      <td>4.397891e+08</td>\n",
              "      <td>1.902061e+10</td>\n",
              "      <td>1.515514e+12</td>\n",
              "      <td>3.406012e+09</td>\n",
              "      <td>1.689003e+08</td>\n",
              "      <td>5.916498e+07</td>\n",
              "      <td>3.132951e+07</td>\n",
              "      <td>356</td>\n",
              "    </tr>\n",
              "    <tr>\n",
              "      <th>356</th>\n",
              "      <td>356</td>\n",
              "      <td>1.983781e+13</td>\n",
              "      <td>2.844175e+12</td>\n",
              "      <td>1.295886e+13</td>\n",
              "      <td>7.219204e+12</td>\n",
              "      <td>1.257017e+13</td>\n",
              "      <td>6.287182e+12</td>\n",
              "      <td>5.170825e+12</td>\n",
              "      <td>2.100270e+13</td>\n",
              "      <td>3.616398e+11</td>\n",
              "      <td>3.577548</td>\n",
              "      <td>4.113614e+11</td>\n",
              "      <td>2.056760e+08</td>\n",
              "      <td>3.779641e+12</td>\n",
              "      <td>1.822156e+12</td>\n",
              "      <td>2.890617e+10</td>\n",
              "      <td>1.173804e+10</td>\n",
              "      <td>2.296477e+11</td>\n",
              "      <td>1.174324e+11</td>\n",
              "      <td>1.737990e+09</td>\n",
              "      <td>2.816798e+11</td>\n",
              "      <td>9.526840e+10</td>\n",
              "      <td>1382.239285</td>\n",
              "      <td>2.251527e+10</td>\n",
              "      <td>8.882660e+08</td>\n",
              "      <td>3.830280e+10</td>\n",
              "      <td>2.795709e+10</td>\n",
              "      <td>226579.883386</td>\n",
              "      <td>8.454536e-10</td>\n",
              "      <td>8.421172e+10</td>\n",
              "      <td>8.044154e+10</td>\n",
              "      <td>1.969455e+10</td>\n",
              "      <td>1.654488e+08</td>\n",
              "      <td>4.545129e+07</td>\n",
              "      <td>1.930501e+07</td>\n",
              "      <td>1.334957e+09</td>\n",
              "      <td>1.179154e+08</td>\n",
              "      <td>3.509064e+10</td>\n",
              "      <td>8.444612e+08</td>\n",
              "      <td>2.202051e+07</td>\n",
              "      <td>1.836514e+13</td>\n",
              "      <td>1.429109e+09</td>\n",
              "      <td>1.815478e+12</td>\n",
              "      <td>7.659455e+13</td>\n",
              "      <td>1.116803e+10</td>\n",
              "      <td>6.219159e+09</td>\n",
              "      <td>26424.250258</td>\n",
              "      <td>2.190418e+07</td>\n",
              "      <td>2.182354e+08</td>\n",
              "      <td>1.324765e+07</td>\n",
              "      <td>2.792315e+08</td>\n",
              "      <td>2.436551e+09</td>\n",
              "      <td>4.999907e+07</td>\n",
              "      <td>3.123002e+08</td>\n",
              "      <td>1.105426e+08</td>\n",
              "      <td>1.164830e+11</td>\n",
              "      <td>2.887015e+11</td>\n",
              "      <td>4.015811e+10</td>\n",
              "      <td>650603.955208</td>\n",
              "      <td>5.215134e+10</td>\n",
              "      <td>2.087424e+11</td>\n",
              "      <td>2.013528e+10</td>\n",
              "      <td>4.151917e+13</td>\n",
              "      <td>1.779211e+09</td>\n",
              "      <td>3.807893e+07</td>\n",
              "      <td>309156.024204</td>\n",
              "      <td>5.439081e+08</td>\n",
              "      <td>5.939367e+05</td>\n",
              "      <td>4.391338e+08</td>\n",
              "      <td>1.904820e+10</td>\n",
              "      <td>1.518541e+12</td>\n",
              "      <td>3.410847e+09</td>\n",
              "      <td>1.686497e+08</td>\n",
              "      <td>5.903798e+07</td>\n",
              "      <td>3.129737e+07</td>\n",
              "      <td>357</td>\n",
              "    </tr>\n",
              "    <tr>\n",
              "      <th>357</th>\n",
              "      <td>357</td>\n",
              "      <td>1.987722e+13</td>\n",
              "      <td>2.850560e+12</td>\n",
              "      <td>1.296875e+13</td>\n",
              "      <td>7.224189e+12</td>\n",
              "      <td>1.258132e+13</td>\n",
              "      <td>6.291146e+12</td>\n",
              "      <td>5.181780e+12</td>\n",
              "      <td>2.103667e+13</td>\n",
              "      <td>3.620096e+11</td>\n",
              "      <td>3.579369</td>\n",
              "      <td>4.117707e+11</td>\n",
              "      <td>2.056738e+08</td>\n",
              "      <td>3.781567e+12</td>\n",
              "      <td>1.821876e+12</td>\n",
              "      <td>2.892219e+10</td>\n",
              "      <td>1.174486e+10</td>\n",
              "      <td>2.293502e+11</td>\n",
              "      <td>1.178330e+11</td>\n",
              "      <td>1.738841e+09</td>\n",
              "      <td>2.819686e+11</td>\n",
              "      <td>9.536586e+10</td>\n",
              "      <td>1382.154419</td>\n",
              "      <td>2.253826e+10</td>\n",
              "      <td>8.891737e+08</td>\n",
              "      <td>3.833768e+10</td>\n",
              "      <td>2.791390e+10</td>\n",
              "      <td>226483.852096</td>\n",
              "      <td>8.438118e-10</td>\n",
              "      <td>8.428848e+10</td>\n",
              "      <td>8.052420e+10</td>\n",
              "      <td>1.971470e+10</td>\n",
              "      <td>1.655428e+08</td>\n",
              "      <td>4.546428e+07</td>\n",
              "      <td>1.927899e+07</td>\n",
              "      <td>1.336219e+09</td>\n",
              "      <td>1.177543e+08</td>\n",
              "      <td>3.503707e+10</td>\n",
              "      <td>8.451070e+08</td>\n",
              "      <td>2.199244e+07</td>\n",
              "      <td>1.838180e+13</td>\n",
              "      <td>1.430284e+09</td>\n",
              "      <td>1.817105e+12</td>\n",
              "      <td>7.675515e+13</td>\n",
              "      <td>1.117586e+10</td>\n",
              "      <td>6.223810e+09</td>\n",
              "      <td>26372.942998</td>\n",
              "      <td>2.190253e+07</td>\n",
              "      <td>2.180041e+08</td>\n",
              "      <td>1.323314e+07</td>\n",
              "      <td>2.794568e+08</td>\n",
              "      <td>2.437726e+09</td>\n",
              "      <td>5.003414e+07</td>\n",
              "      <td>3.121677e+08</td>\n",
              "      <td>1.106334e+08</td>\n",
              "      <td>1.165514e+11</td>\n",
              "      <td>2.888922e+11</td>\n",
              "      <td>4.021780e+10</td>\n",
              "      <td>651298.763371</td>\n",
              "      <td>5.215395e+10</td>\n",
              "      <td>2.089665e+11</td>\n",
              "      <td>2.015648e+10</td>\n",
              "      <td>4.154030e+13</td>\n",
              "      <td>1.777286e+09</td>\n",
              "      <td>3.804064e+07</td>\n",
              "      <td>308719.649774</td>\n",
              "      <td>5.431202e+08</td>\n",
              "      <td>5.930828e+05</td>\n",
              "      <td>4.384806e+08</td>\n",
              "      <td>1.907580e+10</td>\n",
              "      <td>1.521568e+12</td>\n",
              "      <td>3.415673e+09</td>\n",
              "      <td>1.683998e+08</td>\n",
              "      <td>5.891150e+07</td>\n",
              "      <td>3.126528e+07</td>\n",
              "      <td>358</td>\n",
              "    </tr>\n",
              "    <tr>\n",
              "      <th>358</th>\n",
              "      <td>358</td>\n",
              "      <td>1.991663e+13</td>\n",
              "      <td>2.856946e+12</td>\n",
              "      <td>1.297862e+13</td>\n",
              "      <td>7.229163e+12</td>\n",
              "      <td>1.259244e+13</td>\n",
              "      <td>6.295097e+12</td>\n",
              "      <td>5.192736e+12</td>\n",
              "      <td>2.107064e+13</td>\n",
              "      <td>3.623796e+11</td>\n",
              "      <td>3.581185</td>\n",
              "      <td>4.121805e+11</td>\n",
              "      <td>2.056715e+08</td>\n",
              "      <td>3.783488e+12</td>\n",
              "      <td>1.821597e+12</td>\n",
              "      <td>2.893815e+10</td>\n",
              "      <td>1.175166e+10</td>\n",
              "      <td>2.290536e+11</td>\n",
              "      <td>1.182339e+11</td>\n",
              "      <td>1.739689e+09</td>\n",
              "      <td>2.822575e+11</td>\n",
              "      <td>9.546337e+10</td>\n",
              "      <td>1382.069636</td>\n",
              "      <td>2.256125e+10</td>\n",
              "      <td>8.900818e+08</td>\n",
              "      <td>3.837249e+10</td>\n",
              "      <td>2.787084e+10</td>\n",
              "      <td>226387.995623</td>\n",
              "      <td>8.421763e-10</td>\n",
              "      <td>8.436534e+10</td>\n",
              "      <td>8.060691e+10</td>\n",
              "      <td>1.973486e+10</td>\n",
              "      <td>1.656367e+08</td>\n",
              "      <td>4.547725e+07</td>\n",
              "      <td>1.925308e+07</td>\n",
              "      <td>1.337482e+09</td>\n",
              "      <td>1.175939e+08</td>\n",
              "      <td>3.498368e+10</td>\n",
              "      <td>8.457529e+08</td>\n",
              "      <td>2.196450e+07</td>\n",
              "      <td>1.839848e+13</td>\n",
              "      <td>1.431459e+09</td>\n",
              "      <td>1.818732e+12</td>\n",
              "      <td>7.691574e+13</td>\n",
              "      <td>1.118369e+10</td>\n",
              "      <td>6.228459e+09</td>\n",
              "      <td>26321.831434</td>\n",
              "      <td>2.190088e+07</td>\n",
              "      <td>2.177732e+08</td>\n",
              "      <td>1.321869e+07</td>\n",
              "      <td>2.796822e+08</td>\n",
              "      <td>2.438901e+09</td>\n",
              "      <td>5.006921e+07</td>\n",
              "      <td>3.120357e+08</td>\n",
              "      <td>1.107242e+08</td>\n",
              "      <td>1.166200e+11</td>\n",
              "      <td>2.890828e+11</td>\n",
              "      <td>4.027750e+10</td>\n",
              "      <td>651992.905077</td>\n",
              "      <td>5.215666e+10</td>\n",
              "      <td>2.091905e+11</td>\n",
              "      <td>2.017769e+10</td>\n",
              "      <td>4.156138e+13</td>\n",
              "      <td>1.775365e+09</td>\n",
              "      <td>3.800241e+07</td>\n",
              "      <td>308284.459171</td>\n",
              "      <td>5.423344e+08</td>\n",
              "      <td>5.922311e+05</td>\n",
              "      <td>4.378293e+08</td>\n",
              "      <td>1.910339e+10</td>\n",
              "      <td>1.524595e+12</td>\n",
              "      <td>3.420490e+09</td>\n",
              "      <td>1.681507e+08</td>\n",
              "      <td>5.878552e+07</td>\n",
              "      <td>3.123324e+07</td>\n",
              "      <td>359</td>\n",
              "    </tr>\n",
              "    <tr>\n",
              "      <th>359</th>\n",
              "      <td>359</td>\n",
              "      <td>1.995604e+13</td>\n",
              "      <td>2.863335e+12</td>\n",
              "      <td>1.298846e+13</td>\n",
              "      <td>7.234126e+12</td>\n",
              "      <td>1.260354e+13</td>\n",
              "      <td>6.299035e+12</td>\n",
              "      <td>5.203693e+12</td>\n",
              "      <td>2.110461e+13</td>\n",
              "      <td>3.627497e+11</td>\n",
              "      <td>3.582995</td>\n",
              "      <td>4.125905e+11</td>\n",
              "      <td>2.056693e+08</td>\n",
              "      <td>3.785401e+12</td>\n",
              "      <td>1.821318e+12</td>\n",
              "      <td>2.895405e+10</td>\n",
              "      <td>1.175843e+10</td>\n",
              "      <td>2.287576e+11</td>\n",
              "      <td>1.186352e+11</td>\n",
              "      <td>1.740535e+09</td>\n",
              "      <td>2.825466e+11</td>\n",
              "      <td>9.556093e+10</td>\n",
              "      <td>1381.984921</td>\n",
              "      <td>2.258426e+10</td>\n",
              "      <td>8.909903e+08</td>\n",
              "      <td>3.840722e+10</td>\n",
              "      <td>2.782792e+10</td>\n",
              "      <td>226292.315696</td>\n",
              "      <td>8.405470e-10</td>\n",
              "      <td>8.444229e+10</td>\n",
              "      <td>8.068965e+10</td>\n",
              "      <td>1.975502e+10</td>\n",
              "      <td>1.657305e+08</td>\n",
              "      <td>4.549021e+07</td>\n",
              "      <td>1.922730e+07</td>\n",
              "      <td>1.338745e+09</td>\n",
              "      <td>1.174342e+08</td>\n",
              "      <td>3.493046e+10</td>\n",
              "      <td>8.463991e+08</td>\n",
              "      <td>2.193668e+07</td>\n",
              "      <td>1.841517e+13</td>\n",
              "      <td>1.432633e+09</td>\n",
              "      <td>1.820361e+12</td>\n",
              "      <td>7.707634e+13</td>\n",
              "      <td>1.119152e+10</td>\n",
              "      <td>6.233108e+09</td>\n",
              "      <td>26270.914355</td>\n",
              "      <td>2.189924e+07</td>\n",
              "      <td>2.175427e+08</td>\n",
              "      <td>1.320430e+07</td>\n",
              "      <td>2.799077e+08</td>\n",
              "      <td>2.440077e+09</td>\n",
              "      <td>5.010428e+07</td>\n",
              "      <td>3.119042e+08</td>\n",
              "      <td>1.108149e+08</td>\n",
              "      <td>1.166887e+11</td>\n",
              "      <td>2.892734e+11</td>\n",
              "      <td>4.033721e+10</td>\n",
              "      <td>652686.382800</td>\n",
              "      <td>5.215948e+10</td>\n",
              "      <td>2.094146e+11</td>\n",
              "      <td>2.019891e+10</td>\n",
              "      <td>4.158238e+13</td>\n",
              "      <td>1.773447e+09</td>\n",
              "      <td>3.796425e+07</td>\n",
              "      <td>307850.442653</td>\n",
              "      <td>5.415507e+08</td>\n",
              "      <td>5.913817e+05</td>\n",
              "      <td>4.371799e+08</td>\n",
              "      <td>1.913098e+10</td>\n",
              "      <td>1.527623e+12</td>\n",
              "      <td>3.425299e+09</td>\n",
              "      <td>1.679023e+08</td>\n",
              "      <td>5.866006e+07</td>\n",
              "      <td>3.120126e+07</td>\n",
              "      <td>360</td>\n",
              "    </tr>\n",
              "  </tbody>\n",
              "</table>\n",
              "<p>360 rows × 76 columns</p>\n",
              "</div>"
            ],
            "text/plain": [
              "     Unnamed: 0         H2SO4  ...            OH  Hours_from_origin\n",
              "0             0  7.001549e+12  ...  2.912909e+07                  1\n",
              "1             1  7.056739e+12  ...  2.919360e+07                  2\n",
              "2             2  7.111902e+12  ...  2.925766e+07                  3\n",
              "3             3  7.167038e+12  ...  2.932125e+07                  4\n",
              "4             4  7.222150e+12  ...  2.938439e+07                  5\n",
              "..          ...           ...  ...           ...                ...\n",
              "355         355  1.979840e+13  ...  3.132951e+07                356\n",
              "356         356  1.983781e+13  ...  3.129737e+07                357\n",
              "357         357  1.987722e+13  ...  3.126528e+07                358\n",
              "358         358  1.991663e+13  ...  3.123324e+07                359\n",
              "359         359  1.995604e+13  ...  3.120126e+07                360\n",
              "\n",
              "[360 rows x 76 columns]"
            ]
          },
          "metadata": {
            "tags": []
          },
          "execution_count": 182
        }
      ]
    },
    {
      "cell_type": "markdown",
      "metadata": {
        "id": "_2kLMwgC6_PM"
      },
      "source": [
        "The `Unnamed: 0` column just contains row numbers. Let's drop it! Axis 0 = rows, 1 = columns."
      ]
    },
    {
      "cell_type": "code",
      "metadata": {
        "id": "DaOKx5PN5Xbd"
      },
      "source": [
        "model_enkf = model_enkf.drop(['Unnamed: 0'],axis = 1)"
      ],
      "execution_count": 53,
      "outputs": []
    },
    {
      "cell_type": "markdown",
      "metadata": {
        "id": "Ld2FdX-F7JFb"
      },
      "source": [
        "We can easily select the columns of interest and view them or operate on them."
      ]
    },
    {
      "cell_type": "code",
      "metadata": {
        "colab": {
          "base_uri": "https://localhost:8080/",
          "height": 424
        },
        "id": "qRVdctYr5aDa",
        "outputId": "a796a69e-c017-4edc-8597-e6e12b815237"
      },
      "source": [
        "model_enkf[['Hours_from_origin','H2SO4']]"
      ],
      "execution_count": 183,
      "outputs": [
        {
          "output_type": "execute_result",
          "data": {
            "text/html": [
              "<div>\n",
              "<style scoped>\n",
              "    .dataframe tbody tr th:only-of-type {\n",
              "        vertical-align: middle;\n",
              "    }\n",
              "\n",
              "    .dataframe tbody tr th {\n",
              "        vertical-align: top;\n",
              "    }\n",
              "\n",
              "    .dataframe thead th {\n",
              "        text-align: right;\n",
              "    }\n",
              "</style>\n",
              "<table border=\"1\" class=\"dataframe\">\n",
              "  <thead>\n",
              "    <tr style=\"text-align: right;\">\n",
              "      <th></th>\n",
              "      <th>Hours_from_origin</th>\n",
              "      <th>H2SO4</th>\n",
              "    </tr>\n",
              "  </thead>\n",
              "  <tbody>\n",
              "    <tr>\n",
              "      <th>0</th>\n",
              "      <td>1</td>\n",
              "      <td>7.001549e+12</td>\n",
              "    </tr>\n",
              "    <tr>\n",
              "      <th>1</th>\n",
              "      <td>2</td>\n",
              "      <td>7.056739e+12</td>\n",
              "    </tr>\n",
              "    <tr>\n",
              "      <th>2</th>\n",
              "      <td>3</td>\n",
              "      <td>7.111902e+12</td>\n",
              "    </tr>\n",
              "    <tr>\n",
              "      <th>3</th>\n",
              "      <td>4</td>\n",
              "      <td>7.167038e+12</td>\n",
              "    </tr>\n",
              "    <tr>\n",
              "      <th>4</th>\n",
              "      <td>5</td>\n",
              "      <td>7.222150e+12</td>\n",
              "    </tr>\n",
              "    <tr>\n",
              "      <th>...</th>\n",
              "      <td>...</td>\n",
              "      <td>...</td>\n",
              "    </tr>\n",
              "    <tr>\n",
              "      <th>355</th>\n",
              "      <td>356</td>\n",
              "      <td>1.979840e+13</td>\n",
              "    </tr>\n",
              "    <tr>\n",
              "      <th>356</th>\n",
              "      <td>357</td>\n",
              "      <td>1.983781e+13</td>\n",
              "    </tr>\n",
              "    <tr>\n",
              "      <th>357</th>\n",
              "      <td>358</td>\n",
              "      <td>1.987722e+13</td>\n",
              "    </tr>\n",
              "    <tr>\n",
              "      <th>358</th>\n",
              "      <td>359</td>\n",
              "      <td>1.991663e+13</td>\n",
              "    </tr>\n",
              "    <tr>\n",
              "      <th>359</th>\n",
              "      <td>360</td>\n",
              "      <td>1.995604e+13</td>\n",
              "    </tr>\n",
              "  </tbody>\n",
              "</table>\n",
              "<p>360 rows × 2 columns</p>\n",
              "</div>"
            ],
            "text/plain": [
              "     Hours_from_origin         H2SO4\n",
              "0                    1  7.001549e+12\n",
              "1                    2  7.056739e+12\n",
              "2                    3  7.111902e+12\n",
              "3                    4  7.167038e+12\n",
              "4                    5  7.222150e+12\n",
              "..                 ...           ...\n",
              "355                356  1.979840e+13\n",
              "356                357  1.983781e+13\n",
              "357                358  1.987722e+13\n",
              "358                359  1.991663e+13\n",
              "359                360  1.995604e+13\n",
              "\n",
              "[360 rows x 2 columns]"
            ]
          },
          "metadata": {
            "tags": []
          },
          "execution_count": 183
        }
      ]
    },
    {
      "cell_type": "markdown",
      "metadata": {
        "id": "FHLAsOW37M7Y"
      },
      "source": [
        "The `loc` command allows us to subset down to rows and columns that meet a certain condition, which is very useful for analysis."
      ]
    },
    {
      "cell_type": "code",
      "metadata": {
        "colab": {
          "base_uri": "https://localhost:8080/",
          "height": 461
        },
        "id": "htyAQbTF5p5U",
        "outputId": "ad2a829f-5cce-4279-a09f-dd6ec686cb9b"
      },
      "source": [
        "model_enkf.loc[model_enkf['NO2']>1e12]"
      ],
      "execution_count": 184,
      "outputs": [
        {
          "output_type": "execute_result",
          "data": {
            "text/html": [
              "<div>\n",
              "<style scoped>\n",
              "    .dataframe tbody tr th:only-of-type {\n",
              "        vertical-align: middle;\n",
              "    }\n",
              "\n",
              "    .dataframe tbody tr th {\n",
              "        vertical-align: top;\n",
              "    }\n",
              "\n",
              "    .dataframe thead th {\n",
              "        text-align: right;\n",
              "    }\n",
              "</style>\n",
              "<table border=\"1\" class=\"dataframe\">\n",
              "  <thead>\n",
              "    <tr style=\"text-align: right;\">\n",
              "      <th></th>\n",
              "      <th>Unnamed: 0</th>\n",
              "      <th>H2SO4</th>\n",
              "      <th>HCOOH</th>\n",
              "      <th>CCO_OH</th>\n",
              "      <th>RCO_OH</th>\n",
              "      <th>CCO_OOH</th>\n",
              "      <th>RCO_OOH</th>\n",
              "      <th>XN</th>\n",
              "      <th>XC</th>\n",
              "      <th>SO2</th>\n",
              "      <th>O1D</th>\n",
              "      <th>ALK1</th>\n",
              "      <th>BACL</th>\n",
              "      <th>PAN</th>\n",
              "      <th>PAN2</th>\n",
              "      <th>PBZN</th>\n",
              "      <th>MA_PAN</th>\n",
              "      <th>H2O2</th>\n",
              "      <th>N2O5</th>\n",
              "      <th>HONO</th>\n",
              "      <th>ALK2</th>\n",
              "      <th>ALK3</th>\n",
              "      <th>TBU_O</th>\n",
              "      <th>ALK5</th>\n",
              "      <th>ARO2</th>\n",
              "      <th>HNO4</th>\n",
              "      <th>COOH</th>\n",
              "      <th>HOCOO</th>\n",
              "      <th>BZNO2_O</th>\n",
              "      <th>MEOH</th>\n",
              "      <th>ALK4</th>\n",
              "      <th>ARO1</th>\n",
              "      <th>DCB2</th>\n",
              "      <th>DCB3</th>\n",
              "      <th>CRES</th>\n",
              "      <th>DCB1</th>\n",
              "      <th>NPHE</th>\n",
              "      <th>ROOH</th>\n",
              "      <th>BALD</th>\n",
              "      <th>PHEN</th>\n",
              "      <th>CO</th>\n",
              "      <th>MGLY</th>\n",
              "      <th>ACET</th>\n",
              "      <th>HNO3</th>\n",
              "      <th>ETHENE</th>\n",
              "      <th>GLY</th>\n",
              "      <th>BZ_O</th>\n",
              "      <th>ISOPRENE</th>\n",
              "      <th>R2O2</th>\n",
              "      <th>TERP</th>\n",
              "      <th>METHACRO</th>\n",
              "      <th>OLE1</th>\n",
              "      <th>ISOPROD</th>\n",
              "      <th>OLE2</th>\n",
              "      <th>MVK</th>\n",
              "      <th>CCHO</th>\n",
              "      <th>HCHO</th>\n",
              "      <th>RNO3</th>\n",
              "      <th>O3P</th>\n",
              "      <th>RCHO</th>\n",
              "      <th>MEK</th>\n",
              "      <th>PROD2</th>\n",
              "      <th>O3</th>\n",
              "      <th>HO2</th>\n",
              "      <th>RO2_N</th>\n",
              "      <th>MA_RCO3</th>\n",
              "      <th>C_O2</th>\n",
              "      <th>BZCO_O2</th>\n",
              "      <th>RO2_R</th>\n",
              "      <th>NO</th>\n",
              "      <th>NO2</th>\n",
              "      <th>NO3</th>\n",
              "      <th>CCO_O2</th>\n",
              "      <th>RCO_O2</th>\n",
              "      <th>OH</th>\n",
              "      <th>Hours_from_origin</th>\n",
              "    </tr>\n",
              "  </thead>\n",
              "  <tbody>\n",
              "    <tr>\n",
              "      <th>185</th>\n",
              "      <td>185</td>\n",
              "      <td>1.280353e+13</td>\n",
              "      <td>1.596490e+12</td>\n",
              "      <td>1.117751e+13</td>\n",
              "      <td>6.299296e+12</td>\n",
              "      <td>1.050036e+13</td>\n",
              "      <td>5.575727e+12</td>\n",
              "      <td>3.002393e+12</td>\n",
              "      <td>1.426898e+13</td>\n",
              "      <td>2.941825e+11</td>\n",
              "      <td>3.208394</td>\n",
              "      <td>3.017173e+11</td>\n",
              "      <td>9.565206e+07</td>\n",
              "      <td>3.480928e+12</td>\n",
              "      <td>1.946500e+12</td>\n",
              "      <td>2.194393e+10</td>\n",
              "      <td>1.105690e+10</td>\n",
              "      <td>3.022159e+11</td>\n",
              "      <td>5.677878e+10</td>\n",
              "      <td>1.546547e+09</td>\n",
              "      <td>1.933640e+11</td>\n",
              "      <td>6.863200e+10</td>\n",
              "      <td>1209.895887</td>\n",
              "      <td>2.484146e+10</td>\n",
              "      <td>3.414864e+08</td>\n",
              "      <td>3.131273e+10</td>\n",
              "      <td>3.995979e+10</td>\n",
              "      <td>254180.848314</td>\n",
              "      <td>1.136648e-09</td>\n",
              "      <td>5.236295e+10</td>\n",
              "      <td>7.657716e+10</td>\n",
              "      <td>1.563317e+10</td>\n",
              "      <td>1.304125e+08</td>\n",
              "      <td>3.530263e+07</td>\n",
              "      <td>2.292995e+07</td>\n",
              "      <td>9.698209e+08</td>\n",
              "      <td>1.426203e+08</td>\n",
              "      <td>5.056262e+10</td>\n",
              "      <td>6.396656e+08</td>\n",
              "      <td>2.860263e+07</td>\n",
              "      <td>1.586111e+13</td>\n",
              "      <td>1.013346e+09</td>\n",
              "      <td>1.619706e+12</td>\n",
              "      <td>4.906395e+13</td>\n",
              "      <td>1.348121e+10</td>\n",
              "      <td>4.519785e+09</td>\n",
              "      <td>35523.139271</td>\n",
              "      <td>2.312955e+07</td>\n",
              "      <td>2.896366e+08</td>\n",
              "      <td>1.077108e+07</td>\n",
              "      <td>2.676568e+08</td>\n",
              "      <td>1.559262e+09</td>\n",
              "      <td>4.199308e+07</td>\n",
              "      <td>2.709472e+08</td>\n",
              "      <td>8.282392e+07</td>\n",
              "      <td>1.104294e+11</td>\n",
              "      <td>2.609277e+11</td>\n",
              "      <td>3.298498e+10</td>\n",
              "      <td>525007.533183</td>\n",
              "      <td>5.573050e+10</td>\n",
              "      <td>1.767396e+11</td>\n",
              "      <td>1.908605e+10</td>\n",
              "      <td>3.723496e+13</td>\n",
              "      <td>2.207800e+09</td>\n",
              "      <td>5.213172e+07</td>\n",
              "      <td>442231.159869</td>\n",
              "      <td>7.476222e+08</td>\n",
              "      <td>684597.014378</td>\n",
              "      <td>6.111495e+08</td>\n",
              "      <td>1.403664e+10</td>\n",
              "      <td>1.000770e+12</td>\n",
              "      <td>2.502257e+09</td>\n",
              "      <td>2.357319e+08</td>\n",
              "      <td>9.571029e+07</td>\n",
              "      <td>3.760265e+07</td>\n",
              "      <td>186</td>\n",
              "    </tr>\n",
              "    <tr>\n",
              "      <th>186</th>\n",
              "      <td>186</td>\n",
              "      <td>1.284205e+13</td>\n",
              "      <td>1.601818e+12</td>\n",
              "      <td>1.119485e+13</td>\n",
              "      <td>6.307442e+12</td>\n",
              "      <td>1.051970e+13</td>\n",
              "      <td>5.583668e+12</td>\n",
              "      <td>3.012098e+12</td>\n",
              "      <td>1.429893e+13</td>\n",
              "      <td>2.944647e+11</td>\n",
              "      <td>3.211608</td>\n",
              "      <td>3.019926e+11</td>\n",
              "      <td>9.564936e+07</td>\n",
              "      <td>3.484410e+12</td>\n",
              "      <td>1.946356e+12</td>\n",
              "      <td>2.197112e+10</td>\n",
              "      <td>1.107106e+10</td>\n",
              "      <td>3.016934e+11</td>\n",
              "      <td>5.709926e+10</td>\n",
              "      <td>1.548154e+09</td>\n",
              "      <td>1.935456e+11</td>\n",
              "      <td>6.869842e+10</td>\n",
              "      <td>1209.805589</td>\n",
              "      <td>2.486539e+10</td>\n",
              "      <td>3.418087e+08</td>\n",
              "      <td>3.136603e+10</td>\n",
              "      <td>3.987084e+10</td>\n",
              "      <td>254008.216556</td>\n",
              "      <td>1.133441e-09</td>\n",
              "      <td>5.239389e+10</td>\n",
              "      <td>7.665193e+10</td>\n",
              "      <td>1.564827e+10</td>\n",
              "      <td>1.304877e+08</td>\n",
              "      <td>3.531335e+07</td>\n",
              "      <td>2.287288e+07</td>\n",
              "      <td>9.706820e+08</td>\n",
              "      <td>1.422658e+08</td>\n",
              "      <td>5.044888e+10</td>\n",
              "      <td>6.401106e+08</td>\n",
              "      <td>2.853634e+07</td>\n",
              "      <td>1.587173e+13</td>\n",
              "      <td>1.014157e+09</td>\n",
              "      <td>1.620830e+12</td>\n",
              "      <td>4.922532e+13</td>\n",
              "      <td>1.348994e+10</td>\n",
              "      <td>4.523027e+09</td>\n",
              "      <td>35422.955549</td>\n",
              "      <td>2.312392e+07</td>\n",
              "      <td>2.892759e+08</td>\n",
              "      <td>1.075011e+07</td>\n",
              "      <td>2.678585e+08</td>\n",
              "      <td>1.559900e+09</td>\n",
              "      <td>4.202397e+07</td>\n",
              "      <td>2.707304e+08</td>\n",
              "      <td>8.288955e+07</td>\n",
              "      <td>1.104588e+11</td>\n",
              "      <td>2.610861e+11</td>\n",
              "      <td>3.304519e+10</td>\n",
              "      <td>525859.073142</td>\n",
              "      <td>5.569543e+10</td>\n",
              "      <td>1.769370e+11</td>\n",
              "      <td>1.910469e+10</td>\n",
              "      <td>3.727226e+13</td>\n",
              "      <td>2.204965e+09</td>\n",
              "      <td>5.207209e+07</td>\n",
              "      <td>441476.759978</td>\n",
              "      <td>7.462155e+08</td>\n",
              "      <td>683400.885579</td>\n",
              "      <td>6.099342e+08</td>\n",
              "      <td>1.406438e+10</td>\n",
              "      <td>1.003761e+12</td>\n",
              "      <td>2.508884e+09</td>\n",
              "      <td>2.352643e+08</td>\n",
              "      <td>9.541802e+07</td>\n",
              "      <td>3.756592e+07</td>\n",
              "      <td>187</td>\n",
              "    </tr>\n",
              "    <tr>\n",
              "      <th>187</th>\n",
              "      <td>187</td>\n",
              "      <td>1.288057e+13</td>\n",
              "      <td>1.607148e+12</td>\n",
              "      <td>1.121212e+13</td>\n",
              "      <td>6.315556e+12</td>\n",
              "      <td>1.053897e+13</td>\n",
              "      <td>5.591575e+12</td>\n",
              "      <td>3.021805e+12</td>\n",
              "      <td>1.432888e+13</td>\n",
              "      <td>2.947477e+11</td>\n",
              "      <td>3.214812</td>\n",
              "      <td>3.022685e+11</td>\n",
              "      <td>9.564668e+07</td>\n",
              "      <td>3.487880e+12</td>\n",
              "      <td>1.946207e+12</td>\n",
              "      <td>2.199821e+10</td>\n",
              "      <td>1.108518e+10</td>\n",
              "      <td>3.011732e+11</td>\n",
              "      <td>5.742043e+10</td>\n",
              "      <td>1.549752e+09</td>\n",
              "      <td>1.937283e+11</td>\n",
              "      <td>6.876517e+10</td>\n",
              "      <td>1209.717577</td>\n",
              "      <td>2.488939e+10</td>\n",
              "      <td>3.421320e+08</td>\n",
              "      <td>3.141919e+10</td>\n",
              "      <td>3.978237e+10</td>\n",
              "      <td>253836.540654</td>\n",
              "      <td>1.130253e-09</td>\n",
              "      <td>5.242508e+10</td>\n",
              "      <td>7.672691e+10</td>\n",
              "      <td>1.566341e+10</td>\n",
              "      <td>1.305631e+08</td>\n",
              "      <td>3.532409e+07</td>\n",
              "      <td>2.281617e+07</td>\n",
              "      <td>9.715458e+08</td>\n",
              "      <td>1.419136e+08</td>\n",
              "      <td>5.033577e+10</td>\n",
              "      <td>6.405572e+08</td>\n",
              "      <td>2.847047e+07</td>\n",
              "      <td>1.588242e+13</td>\n",
              "      <td>1.014971e+09</td>\n",
              "      <td>1.621964e+12</td>\n",
              "      <td>4.938670e+13</td>\n",
              "      <td>1.349869e+10</td>\n",
              "      <td>4.526288e+09</td>\n",
              "      <td>35323.321143</td>\n",
              "      <td>2.311834e+07</td>\n",
              "      <td>2.889164e+08</td>\n",
              "      <td>1.072926e+07</td>\n",
              "      <td>2.680609e+08</td>\n",
              "      <td>1.560540e+09</td>\n",
              "      <td>4.205495e+07</td>\n",
              "      <td>2.705146e+08</td>\n",
              "      <td>8.295528e+07</td>\n",
              "      <td>1.104885e+11</td>\n",
              "      <td>2.612450e+11</td>\n",
              "      <td>3.310547e+10</td>\n",
              "      <td>526709.438251</td>\n",
              "      <td>5.566080e+10</td>\n",
              "      <td>1.771353e+11</td>\n",
              "      <td>1.912339e+10</td>\n",
              "      <td>3.730944e+13</td>\n",
              "      <td>2.202137e+09</td>\n",
              "      <td>5.201261e+07</td>\n",
              "      <td>440724.642724</td>\n",
              "      <td>7.448142e+08</td>\n",
              "      <td>682208.541333</td>\n",
              "      <td>6.087240e+08</td>\n",
              "      <td>1.409210e+10</td>\n",
              "      <td>1.006752e+12</td>\n",
              "      <td>2.515501e+09</td>\n",
              "      <td>2.347987e+08</td>\n",
              "      <td>9.512730e+07</td>\n",
              "      <td>3.752916e+07</td>\n",
              "      <td>188</td>\n",
              "    </tr>\n",
              "    <tr>\n",
              "      <th>188</th>\n",
              "      <td>188</td>\n",
              "      <td>1.291909e+13</td>\n",
              "      <td>1.612481e+12</td>\n",
              "      <td>1.122933e+13</td>\n",
              "      <td>6.323639e+12</td>\n",
              "      <td>1.055818e+13</td>\n",
              "      <td>5.599448e+12</td>\n",
              "      <td>3.031513e+12</td>\n",
              "      <td>1.435885e+13</td>\n",
              "      <td>2.950314e+11</td>\n",
              "      <td>3.218005</td>\n",
              "      <td>3.025452e+11</td>\n",
              "      <td>9.564401e+07</td>\n",
              "      <td>3.491338e+12</td>\n",
              "      <td>1.946056e+12</td>\n",
              "      <td>2.202520e+10</td>\n",
              "      <td>1.109924e+10</td>\n",
              "      <td>3.006552e+11</td>\n",
              "      <td>5.774227e+10</td>\n",
              "      <td>1.551343e+09</td>\n",
              "      <td>1.939121e+11</td>\n",
              "      <td>6.883219e+10</td>\n",
              "      <td>1209.631245</td>\n",
              "      <td>2.491346e+10</td>\n",
              "      <td>3.424565e+08</td>\n",
              "      <td>3.147222e+10</td>\n",
              "      <td>3.969437e+10</td>\n",
              "      <td>253665.806956</td>\n",
              "      <td>1.127081e-09</td>\n",
              "      <td>5.245653e+10</td>\n",
              "      <td>7.680210e+10</td>\n",
              "      <td>1.567860e+10</td>\n",
              "      <td>1.306386e+08</td>\n",
              "      <td>3.533485e+07</td>\n",
              "      <td>2.275984e+07</td>\n",
              "      <td>9.724122e+08</td>\n",
              "      <td>1.415636e+08</td>\n",
              "      <td>5.022330e+10</td>\n",
              "      <td>6.410053e+08</td>\n",
              "      <td>2.840500e+07</td>\n",
              "      <td>1.589317e+13</td>\n",
              "      <td>1.015787e+09</td>\n",
              "      <td>1.623105e+12</td>\n",
              "      <td>4.954807e+13</td>\n",
              "      <td>1.350747e+10</td>\n",
              "      <td>4.529567e+09</td>\n",
              "      <td>35224.230790</td>\n",
              "      <td>2.311281e+07</td>\n",
              "      <td>2.885580e+08</td>\n",
              "      <td>1.070852e+07</td>\n",
              "      <td>2.682640e+08</td>\n",
              "      <td>1.561183e+09</td>\n",
              "      <td>4.208602e+07</td>\n",
              "      <td>2.702999e+08</td>\n",
              "      <td>8.302112e+07</td>\n",
              "      <td>1.105187e+11</td>\n",
              "      <td>2.614045e+11</td>\n",
              "      <td>3.316581e+10</td>\n",
              "      <td>527558.631498</td>\n",
              "      <td>5.562660e+10</td>\n",
              "      <td>1.773344e+11</td>\n",
              "      <td>1.914215e+10</td>\n",
              "      <td>3.734650e+13</td>\n",
              "      <td>2.199316e+09</td>\n",
              "      <td>5.195326e+07</td>\n",
              "      <td>439974.800433</td>\n",
              "      <td>7.434182e+08</td>\n",
              "      <td>681019.950904</td>\n",
              "      <td>6.075187e+08</td>\n",
              "      <td>1.411982e+10</td>\n",
              "      <td>1.009743e+12</td>\n",
              "      <td>2.522107e+09</td>\n",
              "      <td>2.343350e+08</td>\n",
              "      <td>9.483812e+07</td>\n",
              "      <td>3.749236e+07</td>\n",
              "      <td>189</td>\n",
              "    </tr>\n",
              "    <tr>\n",
              "      <th>189</th>\n",
              "      <td>189</td>\n",
              "      <td>1.295761e+13</td>\n",
              "      <td>1.617817e+12</td>\n",
              "      <td>1.124649e+13</td>\n",
              "      <td>6.331691e+12</td>\n",
              "      <td>1.057733e+13</td>\n",
              "      <td>5.607287e+12</td>\n",
              "      <td>3.041223e+12</td>\n",
              "      <td>1.438881e+13</td>\n",
              "      <td>2.953159e+11</td>\n",
              "      <td>3.221188</td>\n",
              "      <td>3.028225e+11</td>\n",
              "      <td>9.564135e+07</td>\n",
              "      <td>3.494785e+12</td>\n",
              "      <td>1.945901e+12</td>\n",
              "      <td>2.205208e+10</td>\n",
              "      <td>1.111325e+10</td>\n",
              "      <td>3.001395e+11</td>\n",
              "      <td>5.806479e+10</td>\n",
              "      <td>1.552927e+09</td>\n",
              "      <td>1.940969e+11</td>\n",
              "      <td>6.889947e+10</td>\n",
              "      <td>1209.546151</td>\n",
              "      <td>2.493760e+10</td>\n",
              "      <td>3.427820e+08</td>\n",
              "      <td>3.152512e+10</td>\n",
              "      <td>3.960683e+10</td>\n",
              "      <td>253496.002733</td>\n",
              "      <td>1.123927e-09</td>\n",
              "      <td>5.248823e+10</td>\n",
              "      <td>7.687750e+10</td>\n",
              "      <td>1.569383e+10</td>\n",
              "      <td>1.307143e+08</td>\n",
              "      <td>3.534563e+07</td>\n",
              "      <td>2.270388e+07</td>\n",
              "      <td>9.732811e+08</td>\n",
              "      <td>1.412159e+08</td>\n",
              "      <td>5.011143e+10</td>\n",
              "      <td>6.414549e+08</td>\n",
              "      <td>2.833994e+07</td>\n",
              "      <td>1.590400e+13</td>\n",
              "      <td>1.016606e+09</td>\n",
              "      <td>1.624255e+12</td>\n",
              "      <td>4.970944e+13</td>\n",
              "      <td>1.351628e+10</td>\n",
              "      <td>4.532863e+09</td>\n",
              "      <td>35125.679442</td>\n",
              "      <td>2.310733e+07</td>\n",
              "      <td>2.882007e+08</td>\n",
              "      <td>1.068790e+07</td>\n",
              "      <td>2.684677e+08</td>\n",
              "      <td>1.561828e+09</td>\n",
              "      <td>4.211717e+07</td>\n",
              "      <td>2.700862e+08</td>\n",
              "      <td>8.308705e+07</td>\n",
              "      <td>1.105494e+11</td>\n",
              "      <td>2.615645e+11</td>\n",
              "      <td>3.322621e+10</td>\n",
              "      <td>528406.655862</td>\n",
              "      <td>5.559281e+10</td>\n",
              "      <td>1.775341e+11</td>\n",
              "      <td>1.916096e+10</td>\n",
              "      <td>3.738344e+13</td>\n",
              "      <td>2.196502e+09</td>\n",
              "      <td>5.189406e+07</td>\n",
              "      <td>439227.226358</td>\n",
              "      <td>7.420275e+08</td>\n",
              "      <td>679835.086716</td>\n",
              "      <td>6.063183e+08</td>\n",
              "      <td>1.414752e+10</td>\n",
              "      <td>1.012734e+12</td>\n",
              "      <td>2.528703e+09</td>\n",
              "      <td>2.338732e+08</td>\n",
              "      <td>9.455047e+07</td>\n",
              "      <td>3.745554e+07</td>\n",
              "      <td>190</td>\n",
              "    </tr>\n",
              "    <tr>\n",
              "      <th>...</th>\n",
              "      <td>...</td>\n",
              "      <td>...</td>\n",
              "      <td>...</td>\n",
              "      <td>...</td>\n",
              "      <td>...</td>\n",
              "      <td>...</td>\n",
              "      <td>...</td>\n",
              "      <td>...</td>\n",
              "      <td>...</td>\n",
              "      <td>...</td>\n",
              "      <td>...</td>\n",
              "      <td>...</td>\n",
              "      <td>...</td>\n",
              "      <td>...</td>\n",
              "      <td>...</td>\n",
              "      <td>...</td>\n",
              "      <td>...</td>\n",
              "      <td>...</td>\n",
              "      <td>...</td>\n",
              "      <td>...</td>\n",
              "      <td>...</td>\n",
              "      <td>...</td>\n",
              "      <td>...</td>\n",
              "      <td>...</td>\n",
              "      <td>...</td>\n",
              "      <td>...</td>\n",
              "      <td>...</td>\n",
              "      <td>...</td>\n",
              "      <td>...</td>\n",
              "      <td>...</td>\n",
              "      <td>...</td>\n",
              "      <td>...</td>\n",
              "      <td>...</td>\n",
              "      <td>...</td>\n",
              "      <td>...</td>\n",
              "      <td>...</td>\n",
              "      <td>...</td>\n",
              "      <td>...</td>\n",
              "      <td>...</td>\n",
              "      <td>...</td>\n",
              "      <td>...</td>\n",
              "      <td>...</td>\n",
              "      <td>...</td>\n",
              "      <td>...</td>\n",
              "      <td>...</td>\n",
              "      <td>...</td>\n",
              "      <td>...</td>\n",
              "      <td>...</td>\n",
              "      <td>...</td>\n",
              "      <td>...</td>\n",
              "      <td>...</td>\n",
              "      <td>...</td>\n",
              "      <td>...</td>\n",
              "      <td>...</td>\n",
              "      <td>...</td>\n",
              "      <td>...</td>\n",
              "      <td>...</td>\n",
              "      <td>...</td>\n",
              "      <td>...</td>\n",
              "      <td>...</td>\n",
              "      <td>...</td>\n",
              "      <td>...</td>\n",
              "      <td>...</td>\n",
              "      <td>...</td>\n",
              "      <td>...</td>\n",
              "      <td>...</td>\n",
              "      <td>...</td>\n",
              "      <td>...</td>\n",
              "      <td>...</td>\n",
              "      <td>...</td>\n",
              "      <td>...</td>\n",
              "      <td>...</td>\n",
              "      <td>...</td>\n",
              "      <td>...</td>\n",
              "      <td>...</td>\n",
              "      <td>...</td>\n",
              "    </tr>\n",
              "    <tr>\n",
              "      <th>355</th>\n",
              "      <td>355</td>\n",
              "      <td>1.979840e+13</td>\n",
              "      <td>2.837793e+12</td>\n",
              "      <td>1.294894e+13</td>\n",
              "      <td>7.214209e+12</td>\n",
              "      <td>1.255899e+13</td>\n",
              "      <td>6.283206e+12</td>\n",
              "      <td>5.159870e+12</td>\n",
              "      <td>2.096873e+13</td>\n",
              "      <td>3.612701e+11</td>\n",
              "      <td>3.575721</td>\n",
              "      <td>4.109524e+11</td>\n",
              "      <td>2.056783e+08</td>\n",
              "      <td>3.777708e+12</td>\n",
              "      <td>1.822436e+12</td>\n",
              "      <td>2.889010e+10</td>\n",
              "      <td>1.173120e+10</td>\n",
              "      <td>2.299458e+11</td>\n",
              "      <td>1.170322e+11</td>\n",
              "      <td>1.737137e+09</td>\n",
              "      <td>2.813911e+11</td>\n",
              "      <td>9.517099e+10</td>\n",
              "      <td>1382.324256</td>\n",
              "      <td>2.249230e+10</td>\n",
              "      <td>8.873587e+08</td>\n",
              "      <td>3.826783e+10</td>\n",
              "      <td>2.800042e+10</td>\n",
              "      <td>226676.087403</td>\n",
              "      <td>8.471017e-10</td>\n",
              "      <td>8.413505e+10</td>\n",
              "      <td>8.035891e+10</td>\n",
              "      <td>1.967441e+10</td>\n",
              "      <td>1.653549e+08</td>\n",
              "      <td>4.543829e+07</td>\n",
              "      <td>1.933115e+07</td>\n",
              "      <td>1.333696e+09</td>\n",
              "      <td>1.180772e+08</td>\n",
              "      <td>3.514438e+10</td>\n",
              "      <td>8.438156e+08</td>\n",
              "      <td>2.204869e+07</td>\n",
              "      <td>1.834849e+13</td>\n",
              "      <td>1.427934e+09</td>\n",
              "      <td>1.813852e+12</td>\n",
              "      <td>7.643395e+13</td>\n",
              "      <td>1.116020e+10</td>\n",
              "      <td>6.214509e+09</td>\n",
              "      <td>26475.754440</td>\n",
              "      <td>2.190584e+07</td>\n",
              "      <td>2.184671e+08</td>\n",
              "      <td>1.326222e+07</td>\n",
              "      <td>2.790062e+08</td>\n",
              "      <td>2.435376e+09</td>\n",
              "      <td>4.996400e+07</td>\n",
              "      <td>3.124331e+08</td>\n",
              "      <td>1.104518e+08</td>\n",
              "      <td>1.164146e+11</td>\n",
              "      <td>2.885109e+11</td>\n",
              "      <td>4.009842e+10</td>\n",
              "      <td>649908.478124</td>\n",
              "      <td>5.214883e+10</td>\n",
              "      <td>2.085185e+11</td>\n",
              "      <td>2.011410e+10</td>\n",
              "      <td>4.149796e+13</td>\n",
              "      <td>1.781141e+09</td>\n",
              "      <td>3.811729e+07</td>\n",
              "      <td>309593.592625</td>\n",
              "      <td>5.446982e+08</td>\n",
              "      <td>594792.851152</td>\n",
              "      <td>4.397891e+08</td>\n",
              "      <td>1.902061e+10</td>\n",
              "      <td>1.515514e+12</td>\n",
              "      <td>3.406012e+09</td>\n",
              "      <td>1.689003e+08</td>\n",
              "      <td>5.916498e+07</td>\n",
              "      <td>3.132951e+07</td>\n",
              "      <td>356</td>\n",
              "    </tr>\n",
              "    <tr>\n",
              "      <th>356</th>\n",
              "      <td>356</td>\n",
              "      <td>1.983781e+13</td>\n",
              "      <td>2.844175e+12</td>\n",
              "      <td>1.295886e+13</td>\n",
              "      <td>7.219204e+12</td>\n",
              "      <td>1.257017e+13</td>\n",
              "      <td>6.287182e+12</td>\n",
              "      <td>5.170825e+12</td>\n",
              "      <td>2.100270e+13</td>\n",
              "      <td>3.616398e+11</td>\n",
              "      <td>3.577548</td>\n",
              "      <td>4.113614e+11</td>\n",
              "      <td>2.056760e+08</td>\n",
              "      <td>3.779641e+12</td>\n",
              "      <td>1.822156e+12</td>\n",
              "      <td>2.890617e+10</td>\n",
              "      <td>1.173804e+10</td>\n",
              "      <td>2.296477e+11</td>\n",
              "      <td>1.174324e+11</td>\n",
              "      <td>1.737990e+09</td>\n",
              "      <td>2.816798e+11</td>\n",
              "      <td>9.526840e+10</td>\n",
              "      <td>1382.239285</td>\n",
              "      <td>2.251527e+10</td>\n",
              "      <td>8.882660e+08</td>\n",
              "      <td>3.830280e+10</td>\n",
              "      <td>2.795709e+10</td>\n",
              "      <td>226579.883386</td>\n",
              "      <td>8.454536e-10</td>\n",
              "      <td>8.421172e+10</td>\n",
              "      <td>8.044154e+10</td>\n",
              "      <td>1.969455e+10</td>\n",
              "      <td>1.654488e+08</td>\n",
              "      <td>4.545129e+07</td>\n",
              "      <td>1.930501e+07</td>\n",
              "      <td>1.334957e+09</td>\n",
              "      <td>1.179154e+08</td>\n",
              "      <td>3.509064e+10</td>\n",
              "      <td>8.444612e+08</td>\n",
              "      <td>2.202051e+07</td>\n",
              "      <td>1.836514e+13</td>\n",
              "      <td>1.429109e+09</td>\n",
              "      <td>1.815478e+12</td>\n",
              "      <td>7.659455e+13</td>\n",
              "      <td>1.116803e+10</td>\n",
              "      <td>6.219159e+09</td>\n",
              "      <td>26424.250258</td>\n",
              "      <td>2.190418e+07</td>\n",
              "      <td>2.182354e+08</td>\n",
              "      <td>1.324765e+07</td>\n",
              "      <td>2.792315e+08</td>\n",
              "      <td>2.436551e+09</td>\n",
              "      <td>4.999907e+07</td>\n",
              "      <td>3.123002e+08</td>\n",
              "      <td>1.105426e+08</td>\n",
              "      <td>1.164830e+11</td>\n",
              "      <td>2.887015e+11</td>\n",
              "      <td>4.015811e+10</td>\n",
              "      <td>650603.955208</td>\n",
              "      <td>5.215134e+10</td>\n",
              "      <td>2.087424e+11</td>\n",
              "      <td>2.013528e+10</td>\n",
              "      <td>4.151917e+13</td>\n",
              "      <td>1.779211e+09</td>\n",
              "      <td>3.807893e+07</td>\n",
              "      <td>309156.024204</td>\n",
              "      <td>5.439081e+08</td>\n",
              "      <td>593936.668665</td>\n",
              "      <td>4.391338e+08</td>\n",
              "      <td>1.904820e+10</td>\n",
              "      <td>1.518541e+12</td>\n",
              "      <td>3.410847e+09</td>\n",
              "      <td>1.686497e+08</td>\n",
              "      <td>5.903798e+07</td>\n",
              "      <td>3.129737e+07</td>\n",
              "      <td>357</td>\n",
              "    </tr>\n",
              "    <tr>\n",
              "      <th>357</th>\n",
              "      <td>357</td>\n",
              "      <td>1.987722e+13</td>\n",
              "      <td>2.850560e+12</td>\n",
              "      <td>1.296875e+13</td>\n",
              "      <td>7.224189e+12</td>\n",
              "      <td>1.258132e+13</td>\n",
              "      <td>6.291146e+12</td>\n",
              "      <td>5.181780e+12</td>\n",
              "      <td>2.103667e+13</td>\n",
              "      <td>3.620096e+11</td>\n",
              "      <td>3.579369</td>\n",
              "      <td>4.117707e+11</td>\n",
              "      <td>2.056738e+08</td>\n",
              "      <td>3.781567e+12</td>\n",
              "      <td>1.821876e+12</td>\n",
              "      <td>2.892219e+10</td>\n",
              "      <td>1.174486e+10</td>\n",
              "      <td>2.293502e+11</td>\n",
              "      <td>1.178330e+11</td>\n",
              "      <td>1.738841e+09</td>\n",
              "      <td>2.819686e+11</td>\n",
              "      <td>9.536586e+10</td>\n",
              "      <td>1382.154419</td>\n",
              "      <td>2.253826e+10</td>\n",
              "      <td>8.891737e+08</td>\n",
              "      <td>3.833768e+10</td>\n",
              "      <td>2.791390e+10</td>\n",
              "      <td>226483.852096</td>\n",
              "      <td>8.438118e-10</td>\n",
              "      <td>8.428848e+10</td>\n",
              "      <td>8.052420e+10</td>\n",
              "      <td>1.971470e+10</td>\n",
              "      <td>1.655428e+08</td>\n",
              "      <td>4.546428e+07</td>\n",
              "      <td>1.927899e+07</td>\n",
              "      <td>1.336219e+09</td>\n",
              "      <td>1.177543e+08</td>\n",
              "      <td>3.503707e+10</td>\n",
              "      <td>8.451070e+08</td>\n",
              "      <td>2.199244e+07</td>\n",
              "      <td>1.838180e+13</td>\n",
              "      <td>1.430284e+09</td>\n",
              "      <td>1.817105e+12</td>\n",
              "      <td>7.675515e+13</td>\n",
              "      <td>1.117586e+10</td>\n",
              "      <td>6.223810e+09</td>\n",
              "      <td>26372.942998</td>\n",
              "      <td>2.190253e+07</td>\n",
              "      <td>2.180041e+08</td>\n",
              "      <td>1.323314e+07</td>\n",
              "      <td>2.794568e+08</td>\n",
              "      <td>2.437726e+09</td>\n",
              "      <td>5.003414e+07</td>\n",
              "      <td>3.121677e+08</td>\n",
              "      <td>1.106334e+08</td>\n",
              "      <td>1.165514e+11</td>\n",
              "      <td>2.888922e+11</td>\n",
              "      <td>4.021780e+10</td>\n",
              "      <td>651298.763371</td>\n",
              "      <td>5.215395e+10</td>\n",
              "      <td>2.089665e+11</td>\n",
              "      <td>2.015648e+10</td>\n",
              "      <td>4.154030e+13</td>\n",
              "      <td>1.777286e+09</td>\n",
              "      <td>3.804064e+07</td>\n",
              "      <td>308719.649774</td>\n",
              "      <td>5.431202e+08</td>\n",
              "      <td>593082.753795</td>\n",
              "      <td>4.384806e+08</td>\n",
              "      <td>1.907580e+10</td>\n",
              "      <td>1.521568e+12</td>\n",
              "      <td>3.415673e+09</td>\n",
              "      <td>1.683998e+08</td>\n",
              "      <td>5.891150e+07</td>\n",
              "      <td>3.126528e+07</td>\n",
              "      <td>358</td>\n",
              "    </tr>\n",
              "    <tr>\n",
              "      <th>358</th>\n",
              "      <td>358</td>\n",
              "      <td>1.991663e+13</td>\n",
              "      <td>2.856946e+12</td>\n",
              "      <td>1.297862e+13</td>\n",
              "      <td>7.229163e+12</td>\n",
              "      <td>1.259244e+13</td>\n",
              "      <td>6.295097e+12</td>\n",
              "      <td>5.192736e+12</td>\n",
              "      <td>2.107064e+13</td>\n",
              "      <td>3.623796e+11</td>\n",
              "      <td>3.581185</td>\n",
              "      <td>4.121805e+11</td>\n",
              "      <td>2.056715e+08</td>\n",
              "      <td>3.783488e+12</td>\n",
              "      <td>1.821597e+12</td>\n",
              "      <td>2.893815e+10</td>\n",
              "      <td>1.175166e+10</td>\n",
              "      <td>2.290536e+11</td>\n",
              "      <td>1.182339e+11</td>\n",
              "      <td>1.739689e+09</td>\n",
              "      <td>2.822575e+11</td>\n",
              "      <td>9.546337e+10</td>\n",
              "      <td>1382.069636</td>\n",
              "      <td>2.256125e+10</td>\n",
              "      <td>8.900818e+08</td>\n",
              "      <td>3.837249e+10</td>\n",
              "      <td>2.787084e+10</td>\n",
              "      <td>226387.995623</td>\n",
              "      <td>8.421763e-10</td>\n",
              "      <td>8.436534e+10</td>\n",
              "      <td>8.060691e+10</td>\n",
              "      <td>1.973486e+10</td>\n",
              "      <td>1.656367e+08</td>\n",
              "      <td>4.547725e+07</td>\n",
              "      <td>1.925308e+07</td>\n",
              "      <td>1.337482e+09</td>\n",
              "      <td>1.175939e+08</td>\n",
              "      <td>3.498368e+10</td>\n",
              "      <td>8.457529e+08</td>\n",
              "      <td>2.196450e+07</td>\n",
              "      <td>1.839848e+13</td>\n",
              "      <td>1.431459e+09</td>\n",
              "      <td>1.818732e+12</td>\n",
              "      <td>7.691574e+13</td>\n",
              "      <td>1.118369e+10</td>\n",
              "      <td>6.228459e+09</td>\n",
              "      <td>26321.831434</td>\n",
              "      <td>2.190088e+07</td>\n",
              "      <td>2.177732e+08</td>\n",
              "      <td>1.321869e+07</td>\n",
              "      <td>2.796822e+08</td>\n",
              "      <td>2.438901e+09</td>\n",
              "      <td>5.006921e+07</td>\n",
              "      <td>3.120357e+08</td>\n",
              "      <td>1.107242e+08</td>\n",
              "      <td>1.166200e+11</td>\n",
              "      <td>2.890828e+11</td>\n",
              "      <td>4.027750e+10</td>\n",
              "      <td>651992.905077</td>\n",
              "      <td>5.215666e+10</td>\n",
              "      <td>2.091905e+11</td>\n",
              "      <td>2.017769e+10</td>\n",
              "      <td>4.156138e+13</td>\n",
              "      <td>1.775365e+09</td>\n",
              "      <td>3.800241e+07</td>\n",
              "      <td>308284.459171</td>\n",
              "      <td>5.423344e+08</td>\n",
              "      <td>592231.091704</td>\n",
              "      <td>4.378293e+08</td>\n",
              "      <td>1.910339e+10</td>\n",
              "      <td>1.524595e+12</td>\n",
              "      <td>3.420490e+09</td>\n",
              "      <td>1.681507e+08</td>\n",
              "      <td>5.878552e+07</td>\n",
              "      <td>3.123324e+07</td>\n",
              "      <td>359</td>\n",
              "    </tr>\n",
              "    <tr>\n",
              "      <th>359</th>\n",
              "      <td>359</td>\n",
              "      <td>1.995604e+13</td>\n",
              "      <td>2.863335e+12</td>\n",
              "      <td>1.298846e+13</td>\n",
              "      <td>7.234126e+12</td>\n",
              "      <td>1.260354e+13</td>\n",
              "      <td>6.299035e+12</td>\n",
              "      <td>5.203693e+12</td>\n",
              "      <td>2.110461e+13</td>\n",
              "      <td>3.627497e+11</td>\n",
              "      <td>3.582995</td>\n",
              "      <td>4.125905e+11</td>\n",
              "      <td>2.056693e+08</td>\n",
              "      <td>3.785401e+12</td>\n",
              "      <td>1.821318e+12</td>\n",
              "      <td>2.895405e+10</td>\n",
              "      <td>1.175843e+10</td>\n",
              "      <td>2.287576e+11</td>\n",
              "      <td>1.186352e+11</td>\n",
              "      <td>1.740535e+09</td>\n",
              "      <td>2.825466e+11</td>\n",
              "      <td>9.556093e+10</td>\n",
              "      <td>1381.984921</td>\n",
              "      <td>2.258426e+10</td>\n",
              "      <td>8.909903e+08</td>\n",
              "      <td>3.840722e+10</td>\n",
              "      <td>2.782792e+10</td>\n",
              "      <td>226292.315696</td>\n",
              "      <td>8.405470e-10</td>\n",
              "      <td>8.444229e+10</td>\n",
              "      <td>8.068965e+10</td>\n",
              "      <td>1.975502e+10</td>\n",
              "      <td>1.657305e+08</td>\n",
              "      <td>4.549021e+07</td>\n",
              "      <td>1.922730e+07</td>\n",
              "      <td>1.338745e+09</td>\n",
              "      <td>1.174342e+08</td>\n",
              "      <td>3.493046e+10</td>\n",
              "      <td>8.463991e+08</td>\n",
              "      <td>2.193668e+07</td>\n",
              "      <td>1.841517e+13</td>\n",
              "      <td>1.432633e+09</td>\n",
              "      <td>1.820361e+12</td>\n",
              "      <td>7.707634e+13</td>\n",
              "      <td>1.119152e+10</td>\n",
              "      <td>6.233108e+09</td>\n",
              "      <td>26270.914355</td>\n",
              "      <td>2.189924e+07</td>\n",
              "      <td>2.175427e+08</td>\n",
              "      <td>1.320430e+07</td>\n",
              "      <td>2.799077e+08</td>\n",
              "      <td>2.440077e+09</td>\n",
              "      <td>5.010428e+07</td>\n",
              "      <td>3.119042e+08</td>\n",
              "      <td>1.108149e+08</td>\n",
              "      <td>1.166887e+11</td>\n",
              "      <td>2.892734e+11</td>\n",
              "      <td>4.033721e+10</td>\n",
              "      <td>652686.382800</td>\n",
              "      <td>5.215948e+10</td>\n",
              "      <td>2.094146e+11</td>\n",
              "      <td>2.019891e+10</td>\n",
              "      <td>4.158238e+13</td>\n",
              "      <td>1.773447e+09</td>\n",
              "      <td>3.796425e+07</td>\n",
              "      <td>307850.442653</td>\n",
              "      <td>5.415507e+08</td>\n",
              "      <td>591381.667981</td>\n",
              "      <td>4.371799e+08</td>\n",
              "      <td>1.913098e+10</td>\n",
              "      <td>1.527623e+12</td>\n",
              "      <td>3.425299e+09</td>\n",
              "      <td>1.679023e+08</td>\n",
              "      <td>5.866006e+07</td>\n",
              "      <td>3.120126e+07</td>\n",
              "      <td>360</td>\n",
              "    </tr>\n",
              "  </tbody>\n",
              "</table>\n",
              "<p>175 rows × 76 columns</p>\n",
              "</div>"
            ],
            "text/plain": [
              "     Unnamed: 0         H2SO4  ...            OH  Hours_from_origin\n",
              "185         185  1.280353e+13  ...  3.760265e+07                186\n",
              "186         186  1.284205e+13  ...  3.756592e+07                187\n",
              "187         187  1.288057e+13  ...  3.752916e+07                188\n",
              "188         188  1.291909e+13  ...  3.749236e+07                189\n",
              "189         189  1.295761e+13  ...  3.745554e+07                190\n",
              "..          ...           ...  ...           ...                ...\n",
              "355         355  1.979840e+13  ...  3.132951e+07                356\n",
              "356         356  1.983781e+13  ...  3.129737e+07                357\n",
              "357         357  1.987722e+13  ...  3.126528e+07                358\n",
              "358         358  1.991663e+13  ...  3.123324e+07                359\n",
              "359         359  1.995604e+13  ...  3.120126e+07                360\n",
              "\n",
              "[175 rows x 76 columns]"
            ]
          },
          "metadata": {
            "tags": []
          },
          "execution_count": 184
        }
      ]
    },
    {
      "cell_type": "markdown",
      "metadata": {
        "id": "s6WFXitN7Wf7"
      },
      "source": [
        "The `iloc` command does the same but using numerical indices. This is useful if you use another script, perhaps using numpy, to generated indices of interest. In our field, one time this comes up is  when we use GIS packages to determine if data is within a country or region's boundaries. GIS packages in Python are outside the scope of this tutorial but if you are curious, you can check out `GeoPandas` for data analysis and `Basemap` for plotting spatial data on maps."
      ]
    },
    {
      "cell_type": "code",
      "metadata": {
        "colab": {
          "base_uri": "https://localhost:8080/",
          "height": 424
        },
        "id": "nn18w3k_5zQM",
        "outputId": "e0edee87-22f3-4136-9687-ba6bb0e4bd69"
      },
      "source": [
        "model_enkf.iloc[0:100,5:10]"
      ],
      "execution_count": 185,
      "outputs": [
        {
          "output_type": "execute_result",
          "data": {
            "text/html": [
              "<div>\n",
              "<style scoped>\n",
              "    .dataframe tbody tr th:only-of-type {\n",
              "        vertical-align: middle;\n",
              "    }\n",
              "\n",
              "    .dataframe tbody tr th {\n",
              "        vertical-align: top;\n",
              "    }\n",
              "\n",
              "    .dataframe thead th {\n",
              "        text-align: right;\n",
              "    }\n",
              "</style>\n",
              "<table border=\"1\" class=\"dataframe\">\n",
              "  <thead>\n",
              "    <tr style=\"text-align: right;\">\n",
              "      <th></th>\n",
              "      <th>CCO_OOH</th>\n",
              "      <th>RCO_OOH</th>\n",
              "      <th>XN</th>\n",
              "      <th>XC</th>\n",
              "      <th>SO2</th>\n",
              "    </tr>\n",
              "  </thead>\n",
              "  <tbody>\n",
              "    <tr>\n",
              "      <th>0</th>\n",
              "      <td>6.424187e+12</td>\n",
              "      <td>4.121035e+12</td>\n",
              "      <td>1.695804e+12</td>\n",
              "      <td>1.034367e+13</td>\n",
              "      <td>6.572232e+11</td>\n",
              "    </tr>\n",
              "    <tr>\n",
              "      <th>1</th>\n",
              "      <td>6.480731e+12</td>\n",
              "      <td>4.155547e+12</td>\n",
              "      <td>1.708759e+12</td>\n",
              "      <td>1.038407e+13</td>\n",
              "      <td>6.552154e+11</td>\n",
              "    </tr>\n",
              "    <tr>\n",
              "      <th>2</th>\n",
              "      <td>6.537193e+12</td>\n",
              "      <td>4.189977e+12</td>\n",
              "      <td>1.721719e+12</td>\n",
              "      <td>1.042449e+13</td>\n",
              "      <td>6.532342e+11</td>\n",
              "    </tr>\n",
              "    <tr>\n",
              "      <th>3</th>\n",
              "      <td>6.593574e+12</td>\n",
              "      <td>4.224327e+12</td>\n",
              "      <td>1.734684e+12</td>\n",
              "      <td>1.046492e+13</td>\n",
              "      <td>6.512789e+11</td>\n",
              "    </tr>\n",
              "    <tr>\n",
              "      <th>4</th>\n",
              "      <td>6.649871e+12</td>\n",
              "      <td>4.258596e+12</td>\n",
              "      <td>1.747655e+12</td>\n",
              "      <td>1.050536e+13</td>\n",
              "      <td>6.493487e+11</td>\n",
              "    </tr>\n",
              "    <tr>\n",
              "      <th>...</th>\n",
              "      <td>...</td>\n",
              "      <td>...</td>\n",
              "      <td>...</td>\n",
              "      <td>...</td>\n",
              "      <td>...</td>\n",
              "    </tr>\n",
              "    <tr>\n",
              "      <th>95</th>\n",
              "      <td>8.352679e+12</td>\n",
              "      <td>4.673205e+12</td>\n",
              "      <td>2.899759e+12</td>\n",
              "      <td>1.397690e+13</td>\n",
              "      <td>2.872682e+11</td>\n",
              "    </tr>\n",
              "    <tr>\n",
              "      <th>96</th>\n",
              "      <td>8.486218e+12</td>\n",
              "      <td>4.609661e+12</td>\n",
              "      <td>2.678347e+12</td>\n",
              "      <td>1.328858e+13</td>\n",
              "      <td>2.940076e+11</td>\n",
              "    </tr>\n",
              "    <tr>\n",
              "      <th>97</th>\n",
              "      <td>8.512271e+12</td>\n",
              "      <td>4.621305e+12</td>\n",
              "      <td>2.690455e+12</td>\n",
              "      <td>1.332588e+13</td>\n",
              "      <td>2.941807e+11</td>\n",
              "    </tr>\n",
              "    <tr>\n",
              "      <th>98</th>\n",
              "      <td>8.538223e+12</td>\n",
              "      <td>4.632888e+12</td>\n",
              "      <td>2.702565e+12</td>\n",
              "      <td>1.336319e+13</td>\n",
              "      <td>2.943548e+11</td>\n",
              "    </tr>\n",
              "    <tr>\n",
              "      <th>99</th>\n",
              "      <td>8.564075e+12</td>\n",
              "      <td>4.644409e+12</td>\n",
              "      <td>2.714678e+12</td>\n",
              "      <td>1.340050e+13</td>\n",
              "      <td>2.945309e+11</td>\n",
              "    </tr>\n",
              "  </tbody>\n",
              "</table>\n",
              "<p>100 rows × 5 columns</p>\n",
              "</div>"
            ],
            "text/plain": [
              "         CCO_OOH       RCO_OOH            XN            XC           SO2\n",
              "0   6.424187e+12  4.121035e+12  1.695804e+12  1.034367e+13  6.572232e+11\n",
              "1   6.480731e+12  4.155547e+12  1.708759e+12  1.038407e+13  6.552154e+11\n",
              "2   6.537193e+12  4.189977e+12  1.721719e+12  1.042449e+13  6.532342e+11\n",
              "3   6.593574e+12  4.224327e+12  1.734684e+12  1.046492e+13  6.512789e+11\n",
              "4   6.649871e+12  4.258596e+12  1.747655e+12  1.050536e+13  6.493487e+11\n",
              "..           ...           ...           ...           ...           ...\n",
              "95  8.352679e+12  4.673205e+12  2.899759e+12  1.397690e+13  2.872682e+11\n",
              "96  8.486218e+12  4.609661e+12  2.678347e+12  1.328858e+13  2.940076e+11\n",
              "97  8.512271e+12  4.621305e+12  2.690455e+12  1.332588e+13  2.941807e+11\n",
              "98  8.538223e+12  4.632888e+12  2.702565e+12  1.336319e+13  2.943548e+11\n",
              "99  8.564075e+12  4.644409e+12  2.714678e+12  1.340050e+13  2.945309e+11\n",
              "\n",
              "[100 rows x 5 columns]"
            ]
          },
          "metadata": {
            "tags": []
          },
          "execution_count": 185
        }
      ]
    },
    {
      "cell_type": "markdown",
      "metadata": {
        "id": "0Luctu2I8EQu"
      },
      "source": [
        "You can combine attributes of both `loc` and `iloc` using the `index` function within a `loc` call."
      ]
    },
    {
      "cell_type": "code",
      "metadata": {
        "colab": {
          "base_uri": "https://localhost:8080/",
          "height": 834
        },
        "id": "N3qIvl1z6W9D",
        "outputId": "d2323d2c-fa8d-46eb-df27-a890e042495d"
      },
      "source": [
        "model_enkf.loc[model_enkf.index[15:40],['NO2','O3']]"
      ],
      "execution_count": 186,
      "outputs": [
        {
          "output_type": "execute_result",
          "data": {
            "text/html": [
              "<div>\n",
              "<style scoped>\n",
              "    .dataframe tbody tr th:only-of-type {\n",
              "        vertical-align: middle;\n",
              "    }\n",
              "\n",
              "    .dataframe tbody tr th {\n",
              "        vertical-align: top;\n",
              "    }\n",
              "\n",
              "    .dataframe thead th {\n",
              "        text-align: right;\n",
              "    }\n",
              "</style>\n",
              "<table border=\"1\" class=\"dataframe\">\n",
              "  <thead>\n",
              "    <tr style=\"text-align: right;\">\n",
              "      <th></th>\n",
              "      <th>NO2</th>\n",
              "      <th>O3</th>\n",
              "    </tr>\n",
              "  </thead>\n",
              "  <tbody>\n",
              "    <tr>\n",
              "      <th>15</th>\n",
              "      <td>3.960382e+11</td>\n",
              "      <td>2.674605e+13</td>\n",
              "    </tr>\n",
              "    <tr>\n",
              "      <th>16</th>\n",
              "      <td>3.979499e+11</td>\n",
              "      <td>2.679804e+13</td>\n",
              "    </tr>\n",
              "    <tr>\n",
              "      <th>17</th>\n",
              "      <td>3.998640e+11</td>\n",
              "      <td>2.684993e+13</td>\n",
              "    </tr>\n",
              "    <tr>\n",
              "      <th>18</th>\n",
              "      <td>4.017804e+11</td>\n",
              "      <td>2.690172e+13</td>\n",
              "    </tr>\n",
              "    <tr>\n",
              "      <th>19</th>\n",
              "      <td>4.036992e+11</td>\n",
              "      <td>2.695341e+13</td>\n",
              "    </tr>\n",
              "    <tr>\n",
              "      <th>20</th>\n",
              "      <td>4.056204e+11</td>\n",
              "      <td>2.700499e+13</td>\n",
              "    </tr>\n",
              "    <tr>\n",
              "      <th>21</th>\n",
              "      <td>4.075439e+11</td>\n",
              "      <td>2.705646e+13</td>\n",
              "    </tr>\n",
              "    <tr>\n",
              "      <th>22</th>\n",
              "      <td>4.094696e+11</td>\n",
              "      <td>2.710783e+13</td>\n",
              "    </tr>\n",
              "    <tr>\n",
              "      <th>23</th>\n",
              "      <td>4.113977e+11</td>\n",
              "      <td>2.715910e+13</td>\n",
              "    </tr>\n",
              "    <tr>\n",
              "      <th>24</th>\n",
              "      <td>5.671653e+11</td>\n",
              "      <td>2.934360e+13</td>\n",
              "    </tr>\n",
              "    <tr>\n",
              "      <th>25</th>\n",
              "      <td>5.614966e+11</td>\n",
              "      <td>2.942023e+13</td>\n",
              "    </tr>\n",
              "    <tr>\n",
              "      <th>26</th>\n",
              "      <td>5.548989e+11</td>\n",
              "      <td>2.948441e+13</td>\n",
              "    </tr>\n",
              "    <tr>\n",
              "      <th>27</th>\n",
              "      <td>5.511958e+11</td>\n",
              "      <td>2.953847e+13</td>\n",
              "    </tr>\n",
              "    <tr>\n",
              "      <th>28</th>\n",
              "      <td>5.495089e+11</td>\n",
              "      <td>2.958618e+13</td>\n",
              "    </tr>\n",
              "    <tr>\n",
              "      <th>29</th>\n",
              "      <td>5.490634e+11</td>\n",
              "      <td>2.963010e+13</td>\n",
              "    </tr>\n",
              "    <tr>\n",
              "      <th>30</th>\n",
              "      <td>5.494133e+11</td>\n",
              "      <td>2.967190e+13</td>\n",
              "    </tr>\n",
              "    <tr>\n",
              "      <th>31</th>\n",
              "      <td>5.503040e+11</td>\n",
              "      <td>2.971271e+13</td>\n",
              "    </tr>\n",
              "    <tr>\n",
              "      <th>32</th>\n",
              "      <td>5.515829e+11</td>\n",
              "      <td>2.975330e+13</td>\n",
              "    </tr>\n",
              "    <tr>\n",
              "      <th>33</th>\n",
              "      <td>5.531526e+11</td>\n",
              "      <td>2.979420e+13</td>\n",
              "    </tr>\n",
              "    <tr>\n",
              "      <th>34</th>\n",
              "      <td>5.549474e+11</td>\n",
              "      <td>2.983577e+13</td>\n",
              "    </tr>\n",
              "    <tr>\n",
              "      <th>35</th>\n",
              "      <td>5.569202e+11</td>\n",
              "      <td>2.987826e+13</td>\n",
              "    </tr>\n",
              "    <tr>\n",
              "      <th>36</th>\n",
              "      <td>5.590362e+11</td>\n",
              "      <td>2.992183e+13</td>\n",
              "    </tr>\n",
              "    <tr>\n",
              "      <th>37</th>\n",
              "      <td>5.612689e+11</td>\n",
              "      <td>2.996657e+13</td>\n",
              "    </tr>\n",
              "    <tr>\n",
              "      <th>38</th>\n",
              "      <td>5.635972e+11</td>\n",
              "      <td>3.001252e+13</td>\n",
              "    </tr>\n",
              "    <tr>\n",
              "      <th>39</th>\n",
              "      <td>5.660046e+11</td>\n",
              "      <td>3.005968e+13</td>\n",
              "    </tr>\n",
              "  </tbody>\n",
              "</table>\n",
              "</div>"
            ],
            "text/plain": [
              "             NO2            O3\n",
              "15  3.960382e+11  2.674605e+13\n",
              "16  3.979499e+11  2.679804e+13\n",
              "17  3.998640e+11  2.684993e+13\n",
              "18  4.017804e+11  2.690172e+13\n",
              "19  4.036992e+11  2.695341e+13\n",
              "20  4.056204e+11  2.700499e+13\n",
              "21  4.075439e+11  2.705646e+13\n",
              "22  4.094696e+11  2.710783e+13\n",
              "23  4.113977e+11  2.715910e+13\n",
              "24  5.671653e+11  2.934360e+13\n",
              "25  5.614966e+11  2.942023e+13\n",
              "26  5.548989e+11  2.948441e+13\n",
              "27  5.511958e+11  2.953847e+13\n",
              "28  5.495089e+11  2.958618e+13\n",
              "29  5.490634e+11  2.963010e+13\n",
              "30  5.494133e+11  2.967190e+13\n",
              "31  5.503040e+11  2.971271e+13\n",
              "32  5.515829e+11  2.975330e+13\n",
              "33  5.531526e+11  2.979420e+13\n",
              "34  5.549474e+11  2.983577e+13\n",
              "35  5.569202e+11  2.987826e+13\n",
              "36  5.590362e+11  2.992183e+13\n",
              "37  5.612689e+11  2.996657e+13\n",
              "38  5.635972e+11  3.001252e+13\n",
              "39  5.660046e+11  3.005968e+13"
            ]
          },
          "metadata": {
            "tags": []
          },
          "execution_count": 186
        }
      ]
    },
    {
      "cell_type": "markdown",
      "metadata": {
        "id": "PY3ZJcmuXmAf"
      },
      "source": [
        "We can easily transform some or all of a pandas Dataframe into a numpy array if we'd like:"
      ]
    },
    {
      "cell_type": "code",
      "metadata": {
        "colab": {
          "base_uri": "https://localhost:8080/"
        },
        "id": "MvdQulFIXqD3",
        "outputId": "b78d11a2-8854-43d3-9d1e-cd3003d55472"
      },
      "source": [
        "Numpy_array = np.array(model_enkf.loc[model_enkf.index[15:40],['NO2','O3']])\n",
        "Numpy_array"
      ],
      "execution_count": 187,
      "outputs": [
        {
          "output_type": "execute_result",
          "data": {
            "text/plain": [
              "array([[3.96038221e+11, 2.67460481e+13],\n",
              "       [3.97949883e+11, 2.67980406e+13],\n",
              "       [3.99863953e+11, 2.68499319e+13],\n",
              "       [4.01780408e+11, 2.69017209e+13],\n",
              "       [4.03699227e+11, 2.69534066e+13],\n",
              "       [4.05620387e+11, 2.70049881e+13],\n",
              "       [4.07543868e+11, 2.70564644e+13],\n",
              "       [4.09469647e+11, 2.71078346e+13],\n",
              "       [4.11397705e+11, 2.71590980e+13],\n",
              "       [5.67165269e+11, 2.93436030e+13],\n",
              "       [5.61496588e+11, 2.94202341e+13],\n",
              "       [5.54898915e+11, 2.94844072e+13],\n",
              "       [5.51195764e+11, 2.95384699e+13],\n",
              "       [5.49508906e+11, 2.95861758e+13],\n",
              "       [5.49063410e+11, 2.96300950e+13],\n",
              "       [5.49413294e+11, 2.96719012e+13],\n",
              "       [5.50303964e+11, 2.97127142e+13],\n",
              "       [5.51582863e+11, 2.97533017e+13],\n",
              "       [5.53152624e+11, 2.97941964e+13],\n",
              "       [5.54947360e+11, 2.98357663e+13],\n",
              "       [5.56920155e+11, 2.98782584e+13],\n",
              "       [5.59036205e+11, 2.99218304e+13],\n",
              "       [5.61268855e+11, 2.99665720e+13],\n",
              "       [5.63597200e+11, 3.00125221e+13],\n",
              "       [5.66004556e+11, 3.00596812e+13]])"
            ]
          },
          "metadata": {
            "tags": []
          },
          "execution_count": 187
        }
      ]
    },
    {
      "cell_type": "markdown",
      "metadata": {
        "id": "kTJpWbmKXuPy"
      },
      "source": [
        "Some data is lost, but this is useful if we want to load data and do some calculations!"
      ]
    },
    {
      "cell_type": "markdown",
      "metadata": {
        "id": "bvD3_yImtzcr"
      },
      "source": [
        "#5. Matplotlib.PyPlot: Making beautiful visualizations\n"
      ]
    },
    {
      "cell_type": "markdown",
      "metadata": {
        "id": "eW0YcwG2ucRS"
      },
      "source": [
        "Import MatPlotLib.Pyplot with an alias."
      ]
    },
    {
      "cell_type": "code",
      "metadata": {
        "id": "qbNY8yE2uEa-"
      },
      "source": [
        "import matplotlib.pyplot as plt"
      ],
      "execution_count": 188,
      "outputs": []
    },
    {
      "cell_type": "markdown",
      "metadata": {
        "id": "dzR9vgiDuf35"
      },
      "source": [
        "Generate some toy data."
      ]
    },
    {
      "cell_type": "code",
      "metadata": {
        "id": "r5hRMf4tuHO3"
      },
      "source": [
        "x = np.linspace(-2.0*np.pi, 2.0*np.pi, 500) # x-grid\n",
        "ys = np.sin(x) # sin function\n",
        "yc = np.cos(x) # cos function"
      ],
      "execution_count": 189,
      "outputs": []
    },
    {
      "cell_type": "markdown",
      "metadata": {
        "id": "aJj2TGWBua-T"
      },
      "source": [
        "Now plot!"
      ]
    },
    {
      "cell_type": "code",
      "metadata": {
        "colab": {
          "base_uri": "https://localhost:8080/",
          "height": 336
        },
        "id": "cbWri5truKSi",
        "outputId": "ed773ce6-1d85-48ea-c41f-9700ea8cef11"
      },
      "source": [
        "plt.plot(x, ys, lw=4, ls='-', label=r'$\\sin(\\alpha\\beta)$')  # linewidth = 4, linestyle = solid, raw string label\n",
        "plt.plot(x, yc, lw=4, ls='--', label=r'$\\cos(x)$')\n",
        "plt.legend() # show legend\n",
        "plt.xlabel(r'$x$', fontsize=24) # label x axis\n",
        "plt.ylabel(r'$y$', fontsize=24) # label y axis\n",
        "plt.title('Sine and Cosine', fontsize=24)"
      ],
      "execution_count": 191,
      "outputs": [
        {
          "output_type": "execute_result",
          "data": {
            "text/plain": [
              "Text(0.5, 1.0, 'Sine and Cosine')"
            ]
          },
          "metadata": {
            "tags": []
          },
          "execution_count": 191
        },
        {
          "output_type": "display_data",
          "data": {
            "image/png": "[encoded data removed]",
            "text/plain": [
              "<Figure size 432x288 with 1 Axes>"
            ]
          },
          "metadata": {
            "tags": [],
            "needs_background": "light"
          }
        }
      ]
    },
    {
      "cell_type": "markdown",
      "metadata": {
        "id": "fTqY6YCBuoHO"
      },
      "source": [
        "Notice that we used a few things:\n",
        "1. We changed the line widths\n",
        "2. We changed the line style\n",
        "3. We labeled the plots\n",
        "4. We changed the font size of the labels\n",
        "\n",
        "We also use a `raw string` because we're including Latex commands to render mathematics.  A `raw string` is preceeded by the letter `r`."
      ]
    },
    {
      "cell_type": "markdown",
      "metadata": {
        "id": "vC638n15uP0n"
      },
      "source": [
        "**WARNING!** When making plots in a Python script (.py file) or on the command line, you must **always** include the command `plt.show()` at the **end** of your program.  **Always.** If you don't do so, then your plots will not display and you will be wondering where they are.  However, when plotting in the Jupyter notebook, there is no need to use `plt.show()`."
      ]
    },
    {
      "cell_type": "markdown",
      "metadata": {
        "id": "r469Zw-ozSYt"
      },
      "source": [
        "Here's a plot for our earlier regression example! "
      ]
    },
    {
      "cell_type": "code",
      "metadata": {
        "colab": {
          "base_uri": "https://localhost:8080/",
          "height": 299
        },
        "id": "CT714M7syK6s",
        "outputId": "f2c112b5-16f4-4f28-cc3b-d97a5733bb42"
      },
      "source": [
        "plt.plot(linreg_x,linreg_y,'o',label='Measurements')\n",
        "plt.plot(linreg_x,(linreg_x*5)+6,label='Truth')\n",
        "plt.plot(linreg_x,(linreg_x*slope)+intercept,label='Regression')\n",
        "plt.xlabel(r'$x$')\n",
        "plt.ylabel(r'$y$')\n",
        "plt.legend()"
      ],
      "execution_count": 193,
      "outputs": [
        {
          "output_type": "execute_result",
          "data": {
            "text/plain": [
              "<matplotlib.legend.Legend at 0x7f31bcd9b050>"
            ]
          },
          "metadata": {
            "tags": []
          },
          "execution_count": 193
        },
        {
          "output_type": "display_data",
          "data": {
            "image/png": "[encoded data removed]",
            "text/plain": [
              "<Figure size 432x288 with 1 Axes>"
            ]
          },
          "metadata": {
            "tags": [],
            "needs_background": "light"
          }
        }
      ]
    },
    {
      "cell_type": "markdown",
      "metadata": {
        "id": "KnREtogquvpJ"
      },
      "source": [
        "There is much more to plotting than this! I'll show you some of the plots I've been making recently. (Demo)"
      ]
    },
    {
      "cell_type": "markdown",
      "metadata": {
        "id": "tVSl0M6St_il"
      },
      "source": [
        "#6. Demo! Load and plot some real scientific data."
      ]
    },
    {
      "cell_type": "markdown",
      "metadata": {
        "id": "UDNJMhhn2T4D"
      },
      "source": [
        "Here is some data I generated using a fortran model of mine. It demonstrates how to combine what we talked about today!\n"
      ]
    },
    {
      "cell_type": "code",
      "metadata": {
        "id": "ERXH556Aty2b"
      },
      "source": [
        "model_enkf = pd.read_csv('assimemis_saprc99_model_run_enkf.csv')\n",
        "nature_enkf = pd.read_csv('assimemis_saprc99_nature_run_enkf.csv')\n",
        "model_sd_enkf = pd.read_csv('assimemis_saprc99_model_run_sd_enkf.csv')\n",
        "nature_obs_enkf = pd.read_csv('assimemis_saprc99_nature_obs_enkf.csv')\n",
        "nature_obs_enkf = nature_obs_enkf.drop(['Unnamed: 0'],axis = 1)\n",
        "nature_obs_enkf = np.array(nature_obs_enkf)\n",
        "\n",
        "CFACTOR=2.447600e13\n",
        "no2_err = 5e9*5\n",
        "o3_err = 3e11*5 #roughly 5% error\n",
        "so2_err = 4e9*5 #roughly 5% error\n",
        "hcho_err = 3e9*5 #roughly 5% error"
      ],
      "execution_count": 195,
      "outputs": []
    },
    {
      "cell_type": "code",
      "metadata": {
        "colab": {
          "base_uri": "https://localhost:8080/",
          "height": 624
        },
        "id": "J_uBG4UimJ9L",
        "outputId": "9d2a560c-3b71-48cc-9c0f-9af308970eea"
      },
      "source": [
        "nature_no2 = nature_enkf['NO2']/CFACTOR\n",
        "nature_no2_high = nature_no2+(no2_err/CFACTOR)\n",
        "nature_no2_low = nature_no2-(no2_err/CFACTOR)\n",
        "\n",
        "nature_o3 = nature_enkf['O3']/CFACTOR\n",
        "nature_o3_high = nature_o3+(o3_err/CFACTOR)\n",
        "nature_o3_low = nature_o3-(o3_err/CFACTOR)\n",
        "\n",
        "nature_so2 = nature_enkf['SO2']/CFACTOR\n",
        "nature_so2_high = nature_so2+(so2_err/CFACTOR)\n",
        "nature_so2_low = nature_so2-(so2_err/CFACTOR)\n",
        "\n",
        "nature_hcho = nature_enkf['HCHO']/CFACTOR\n",
        "nature_hcho_high = nature_hcho+(hcho_err/CFACTOR)\n",
        "nature_hcho_low = nature_hcho-(hcho_err/CFACTOR)\n",
        "\n",
        "observations = nature_obs_enkf/CFACTOR\n",
        "\n",
        "observations_times = np.arange(24,24*14+1,24)\n",
        "\n",
        "model_no2 = model_enkf['NO2']/CFACTOR\n",
        "model_sd_no2 = model_sd_enkf['NO2']/CFACTOR\n",
        "model_no2_high = model_no2+model_sd_no2\n",
        "model_no2_low = model_no2-model_sd_no2\n",
        "\n",
        "model_o3 = model_enkf['O3']/CFACTOR\n",
        "model_sd_o3 = model_sd_enkf['O3']/CFACTOR\n",
        "model_o3_high = model_o3+model_sd_o3\n",
        "model_o3_low = model_o3-model_sd_o3\n",
        "\n",
        "model_so2 = model_enkf['SO2']/CFACTOR\n",
        "model_sd_so2 = model_sd_enkf['SO2']/CFACTOR\n",
        "model_so2_high = model_so2+model_sd_so2\n",
        "model_so2_low = model_so2-model_sd_so2\n",
        "\n",
        "model_hcho = model_enkf['HCHO']/CFACTOR\n",
        "model_sd_hcho = model_sd_enkf['HCHO']/CFACTOR\n",
        "model_hcho_high = model_hcho+model_sd_hcho\n",
        "model_hcho_low = model_hcho-model_sd_hcho\n",
        "\n",
        "fig, axs = plt.subplots(2,2,figsize = (15,10))\n",
        "\n",
        "##################NO2####################\n",
        "\n",
        "axs[0,0].plot(nature_enkf['Hours_from_origin'],nature_no2,color='b',label='Nature run')\n",
        "axs[0,0].plot(model_enkf['Hours_from_origin'],nature_no2_high,':',color='b')\n",
        "axs[0,0].plot(model_enkf['Hours_from_origin'],nature_no2_low,':',color='b')\n",
        "\n",
        "axs[0,0].plot(observations_times,observations[0,:], '*', color = 'c',label = 'Observation')\n",
        "\n",
        "axs[0,0].plot(model_enkf['Hours_from_origin'],model_no2,color='g', label = 'Model run')\n",
        "axs[0,0].plot(model_enkf['Hours_from_origin'],model_no2_high,':',color='g')\n",
        "axs[0,0].plot(model_enkf['Hours_from_origin'],model_no2_low,':',color='g')\n",
        "\n",
        "axs[0,0].set_xlabel('Time (hours)')\n",
        "axs[0,0].set_ylabel(r'NO$_2$ (ppm)')\n",
        "axs[0,0].legend()\n",
        "\n",
        "##################O3####################\n",
        "\n",
        "axs[1,0].plot(nature_enkf['Hours_from_origin'],nature_o3,color='b',label='Nature run')\n",
        "axs[1,0].plot(model_enkf['Hours_from_origin'],nature_o3_high,':',color='b')\n",
        "axs[1,0].plot(model_enkf['Hours_from_origin'],nature_o3_low,':',color='b')\n",
        "\n",
        "axs[1,0].plot(observations_times,observations[1,:], '*', color = 'c',label = 'Observation')\n",
        "\n",
        "axs[1,0].plot(model_enkf['Hours_from_origin'],model_o3,color='g', label = 'Model run')\n",
        "axs[1,0].plot(model_enkf['Hours_from_origin'],model_o3_high,':',color='g')\n",
        "axs[1,0].plot(model_enkf['Hours_from_origin'],model_o3_low,':',color='g')\n",
        "\n",
        "axs[1,0].set_xlabel('Time (hours)')\n",
        "axs[1,0].set_ylabel(r'O$_3$ (ppm)')\n",
        "axs[1,0].legend()\n",
        "\n",
        "##################SO2####################\n",
        "\n",
        "axs[0,1].plot(nature_enkf['Hours_from_origin'],nature_so2,color='b',label='Nature run')\n",
        "axs[0,1].plot(model_enkf['Hours_from_origin'],nature_so2_high,':',color='b')\n",
        "axs[0,1].plot(model_enkf['Hours_from_origin'],nature_so2_low,':',color='b')\n",
        "\n",
        "axs[0,1].plot(observations_times,observations[2,:], '*', color = 'c',label = 'Observation')\n",
        "\n",
        "axs[0,1].plot(model_enkf['Hours_from_origin'],model_so2,color='g', label = 'Model run')\n",
        "axs[0,1].plot(model_enkf['Hours_from_origin'],model_so2_high,':',color='g')\n",
        "axs[0,1].plot(model_enkf['Hours_from_origin'],model_so2_low,':',color='g')\n",
        "\n",
        "axs[0,1].set_xlabel('Time (hours)')\n",
        "axs[0,1].set_ylabel(r'SO$_2$ (ppm)')\n",
        "axs[0,1].legend()\n",
        "\n",
        "##################HCHO####################\n",
        "\n",
        "axs[1,1].plot(nature_enkf['Hours_from_origin'],nature_hcho,color='b',label='Nature run')\n",
        "axs[1,1].plot(model_enkf['Hours_from_origin'],nature_hcho_high,':',color='b')\n",
        "axs[1,1].plot(model_enkf['Hours_from_origin'],nature_hcho_low,':',color='b')\n",
        "\n",
        "axs[1,1].plot(observations_times,observations[3,:], '*', color = 'c',label = 'Observation')\n",
        "\n",
        "axs[1,1].plot(model_enkf['Hours_from_origin'],model_hcho,color='g', label = 'Model run')\n",
        "axs[1,1].plot(model_enkf['Hours_from_origin'],model_hcho_high,':',color='g')\n",
        "axs[1,1].plot(model_enkf['Hours_from_origin'],model_hcho_low,':',color='g')\n",
        "\n",
        "axs[1,1].set_xlabel('Time (hours)')\n",
        "axs[1,1].set_ylabel(r'HCHO (ppm)')\n",
        "axs[1,1].legend()"
      ],
      "execution_count": 44,
      "outputs": [
        {
          "output_type": "execute_result",
          "data": {
            "text/plain": [
              "<matplotlib.legend.Legend at 0x7f31bef84c10>"
            ]
          },
          "metadata": {
            "tags": []
          },
          "execution_count": 44
        },
        {
          "output_type": "display_data",
          "data": {
            "image/png": "[encoded data removed]",
            "text/plain": [
              "<Figure size 1080x720 with 4 Axes>"
            ]
          },
          "metadata": {
            "tags": [],
            "needs_background": "light"
          }
        }
      ]
    }
  ]
}